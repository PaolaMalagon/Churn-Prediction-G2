{
 "cells": [
  {
   "cell_type": "markdown",
   "metadata": {},
   "source": [
    "# Import Libraries"
   ]
  },
  {
   "cell_type": "code",
   "execution_count": 2,
   "metadata": {},
   "outputs": [],
   "source": [
    "import pandas as pd\n",
    "import numpy as np\n",
    "import seaborn as sns\n",
    "from sklearn import preprocessing\n",
    "import matplotlib.pyplot as plt"
   ]
  },
  {
   "cell_type": "markdown",
   "metadata": {},
   "source": [
    "# Load in Data"
   ]
  },
  {
   "cell_type": "markdown",
   "metadata": {},
   "source": [
    "The dataset used is available in the GitHub repository under the name **\"credit_card_churn.csv**. This data was retrieved from Kaggle.com, with a direct link located in the repository README file."
   ]
  },
  {
   "cell_type": "code",
   "execution_count": 3,
   "metadata": {},
   "outputs": [
    {
     "data": {
      "text/html": [
       "<div>\n",
       "<style scoped>\n",
       "    .dataframe tbody tr th:only-of-type {\n",
       "        vertical-align: middle;\n",
       "    }\n",
       "\n",
       "    .dataframe tbody tr th {\n",
       "        vertical-align: top;\n",
       "    }\n",
       "\n",
       "    .dataframe thead th {\n",
       "        text-align: right;\n",
       "    }\n",
       "</style>\n",
       "<table border=\"1\" class=\"dataframe\">\n",
       "  <thead>\n",
       "    <tr style=\"text-align: right;\">\n",
       "      <th></th>\n",
       "      <th>CLIENTNUM</th>\n",
       "      <th>Attrition_Flag</th>\n",
       "      <th>Customer_Age</th>\n",
       "      <th>Gender</th>\n",
       "      <th>Dependent_count</th>\n",
       "      <th>Education_Level</th>\n",
       "      <th>Marital_Status</th>\n",
       "      <th>Income_Category</th>\n",
       "      <th>Card_Category</th>\n",
       "      <th>Months_on_book</th>\n",
       "      <th>...</th>\n",
       "      <th>Credit_Limit</th>\n",
       "      <th>Total_Revolving_Bal</th>\n",
       "      <th>Avg_Open_To_Buy</th>\n",
       "      <th>Total_Amt_Chng_Q4_Q1</th>\n",
       "      <th>Total_Trans_Amt</th>\n",
       "      <th>Total_Trans_Ct</th>\n",
       "      <th>Total_Ct_Chng_Q4_Q1</th>\n",
       "      <th>Avg_Utilization_Ratio</th>\n",
       "      <th>Naive_Bayes_Classifier_Attrition_Flag_Card_Category_Contacts_Count_12_mon_Dependent_count_Education_Level_Months_Inactive_12_mon_1</th>\n",
       "      <th>Naive_Bayes_Classifier_Attrition_Flag_Card_Category_Contacts_Count_12_mon_Dependent_count_Education_Level_Months_Inactive_12_mon_2</th>\n",
       "    </tr>\n",
       "  </thead>\n",
       "  <tbody>\n",
       "    <tr>\n",
       "      <th>0</th>\n",
       "      <td>768805383</td>\n",
       "      <td>Existing Customer</td>\n",
       "      <td>45</td>\n",
       "      <td>M</td>\n",
       "      <td>3</td>\n",
       "      <td>High School</td>\n",
       "      <td>Married</td>\n",
       "      <td>$60K - $80K</td>\n",
       "      <td>Blue</td>\n",
       "      <td>39</td>\n",
       "      <td>...</td>\n",
       "      <td>12691.0</td>\n",
       "      <td>777</td>\n",
       "      <td>11914.0</td>\n",
       "      <td>1.335</td>\n",
       "      <td>1144</td>\n",
       "      <td>42</td>\n",
       "      <td>1.625</td>\n",
       "      <td>0.061</td>\n",
       "      <td>0.000093</td>\n",
       "      <td>0.99991</td>\n",
       "    </tr>\n",
       "    <tr>\n",
       "      <th>1</th>\n",
       "      <td>818770008</td>\n",
       "      <td>Existing Customer</td>\n",
       "      <td>49</td>\n",
       "      <td>F</td>\n",
       "      <td>5</td>\n",
       "      <td>Graduate</td>\n",
       "      <td>Single</td>\n",
       "      <td>Less than $40K</td>\n",
       "      <td>Blue</td>\n",
       "      <td>44</td>\n",
       "      <td>...</td>\n",
       "      <td>8256.0</td>\n",
       "      <td>864</td>\n",
       "      <td>7392.0</td>\n",
       "      <td>1.541</td>\n",
       "      <td>1291</td>\n",
       "      <td>33</td>\n",
       "      <td>3.714</td>\n",
       "      <td>0.105</td>\n",
       "      <td>0.000057</td>\n",
       "      <td>0.99994</td>\n",
       "    </tr>\n",
       "    <tr>\n",
       "      <th>2</th>\n",
       "      <td>713982108</td>\n",
       "      <td>Existing Customer</td>\n",
       "      <td>51</td>\n",
       "      <td>M</td>\n",
       "      <td>3</td>\n",
       "      <td>Graduate</td>\n",
       "      <td>Married</td>\n",
       "      <td>$80K - $120K</td>\n",
       "      <td>Blue</td>\n",
       "      <td>36</td>\n",
       "      <td>...</td>\n",
       "      <td>3418.0</td>\n",
       "      <td>0</td>\n",
       "      <td>3418.0</td>\n",
       "      <td>2.594</td>\n",
       "      <td>1887</td>\n",
       "      <td>20</td>\n",
       "      <td>2.333</td>\n",
       "      <td>0.000</td>\n",
       "      <td>0.000021</td>\n",
       "      <td>0.99998</td>\n",
       "    </tr>\n",
       "    <tr>\n",
       "      <th>3</th>\n",
       "      <td>769911858</td>\n",
       "      <td>Existing Customer</td>\n",
       "      <td>40</td>\n",
       "      <td>F</td>\n",
       "      <td>4</td>\n",
       "      <td>High School</td>\n",
       "      <td>Unknown</td>\n",
       "      <td>Less than $40K</td>\n",
       "      <td>Blue</td>\n",
       "      <td>34</td>\n",
       "      <td>...</td>\n",
       "      <td>3313.0</td>\n",
       "      <td>2517</td>\n",
       "      <td>796.0</td>\n",
       "      <td>1.405</td>\n",
       "      <td>1171</td>\n",
       "      <td>20</td>\n",
       "      <td>2.333</td>\n",
       "      <td>0.760</td>\n",
       "      <td>0.000134</td>\n",
       "      <td>0.99987</td>\n",
       "    </tr>\n",
       "    <tr>\n",
       "      <th>4</th>\n",
       "      <td>709106358</td>\n",
       "      <td>Existing Customer</td>\n",
       "      <td>40</td>\n",
       "      <td>M</td>\n",
       "      <td>3</td>\n",
       "      <td>Uneducated</td>\n",
       "      <td>Married</td>\n",
       "      <td>$60K - $80K</td>\n",
       "      <td>Blue</td>\n",
       "      <td>21</td>\n",
       "      <td>...</td>\n",
       "      <td>4716.0</td>\n",
       "      <td>0</td>\n",
       "      <td>4716.0</td>\n",
       "      <td>2.175</td>\n",
       "      <td>816</td>\n",
       "      <td>28</td>\n",
       "      <td>2.500</td>\n",
       "      <td>0.000</td>\n",
       "      <td>0.000022</td>\n",
       "      <td>0.99998</td>\n",
       "    </tr>\n",
       "  </tbody>\n",
       "</table>\n",
       "<p>5 rows × 23 columns</p>\n",
       "</div>"
      ],
      "text/plain": [
       "   CLIENTNUM     Attrition_Flag  Customer_Age Gender  Dependent_count  \\\n",
       "0  768805383  Existing Customer            45      M                3   \n",
       "1  818770008  Existing Customer            49      F                5   \n",
       "2  713982108  Existing Customer            51      M                3   \n",
       "3  769911858  Existing Customer            40      F                4   \n",
       "4  709106358  Existing Customer            40      M                3   \n",
       "\n",
       "  Education_Level Marital_Status Income_Category Card_Category  \\\n",
       "0     High School        Married     $60K - $80K          Blue   \n",
       "1        Graduate         Single  Less than $40K          Blue   \n",
       "2        Graduate        Married    $80K - $120K          Blue   \n",
       "3     High School        Unknown  Less than $40K          Blue   \n",
       "4      Uneducated        Married     $60K - $80K          Blue   \n",
       "\n",
       "   Months_on_book  ...  Credit_Limit  Total_Revolving_Bal  Avg_Open_To_Buy  \\\n",
       "0              39  ...       12691.0                  777          11914.0   \n",
       "1              44  ...        8256.0                  864           7392.0   \n",
       "2              36  ...        3418.0                    0           3418.0   \n",
       "3              34  ...        3313.0                 2517            796.0   \n",
       "4              21  ...        4716.0                    0           4716.0   \n",
       "\n",
       "   Total_Amt_Chng_Q4_Q1  Total_Trans_Amt  Total_Trans_Ct  Total_Ct_Chng_Q4_Q1  \\\n",
       "0                 1.335             1144              42                1.625   \n",
       "1                 1.541             1291              33                3.714   \n",
       "2                 2.594             1887              20                2.333   \n",
       "3                 1.405             1171              20                2.333   \n",
       "4                 2.175              816              28                2.500   \n",
       "\n",
       "   Avg_Utilization_Ratio  \\\n",
       "0                  0.061   \n",
       "1                  0.105   \n",
       "2                  0.000   \n",
       "3                  0.760   \n",
       "4                  0.000   \n",
       "\n",
       "   Naive_Bayes_Classifier_Attrition_Flag_Card_Category_Contacts_Count_12_mon_Dependent_count_Education_Level_Months_Inactive_12_mon_1  \\\n",
       "0                                           0.000093                                                                                    \n",
       "1                                           0.000057                                                                                    \n",
       "2                                           0.000021                                                                                    \n",
       "3                                           0.000134                                                                                    \n",
       "4                                           0.000022                                                                                    \n",
       "\n",
       "   Naive_Bayes_Classifier_Attrition_Flag_Card_Category_Contacts_Count_12_mon_Dependent_count_Education_Level_Months_Inactive_12_mon_2  \n",
       "0                                            0.99991                                                                                   \n",
       "1                                            0.99994                                                                                   \n",
       "2                                            0.99998                                                                                   \n",
       "3                                            0.99987                                                                                   \n",
       "4                                            0.99998                                                                                   \n",
       "\n",
       "[5 rows x 23 columns]"
      ]
     },
     "execution_count": 3,
     "metadata": {},
     "output_type": "execute_result"
    }
   ],
   "source": [
    "#Use pandas, load in dataset \n",
    "credit_df = pd.read_csv(\"credit_card_churn.csv\")\n",
    "\n",
    "#Check that data loaded in correctly\n",
    "credit_df.head()"
   ]
  },
  {
   "cell_type": "markdown",
   "metadata": {},
   "source": [
    "# Understanding the Data"
   ]
  },
  {
   "cell_type": "markdown",
   "metadata": {},
   "source": [
    "Before going into the deep analysis, it is essential to understand the data that will be used in the modeling solution. Looking at the properties this data set will provide enough information to determine if a solution to the customer attrition issue can be produced."
   ]
  },
  {
   "cell_type": "code",
   "execution_count": 4,
   "metadata": {},
   "outputs": [],
   "source": [
    "#credit_df.info()"
   ]
  },
  {
   "cell_type": "markdown",
   "metadata": {},
   "source": [
    "There are no nulls present in any of the variables, each has 10127 observations - indicating no need to alter the dataset due to missing information. There are 23 columns, 10127 observations, and no null values. Some of these columns will not be necessary for the later stages of analysis and can be subsequently cut from our working dataframe. \n",
    "\n",
    "\n",
    "\n",
    "To get a better idea of what can be cut, here are the variable names and definitions:\n",
    "1. **CLIENTNUM**: *Client number. Unique identified for the customer holding the account*\n",
    "2. **Attrition_Flag**: *Internal event (customer activity) variable - if the account is closed then 1 else 0* ***TARGET VARIABLE***\n",
    "3. **Customer_Age**: *Demographic variable - Customer's Age in Years*\n",
    "4. **Gender**: *Demographic variable - M=Male, F=Female*\n",
    "5. **Dependent_count**: *Demographic variable - Number of dependents*\n",
    "6. **Education_Level**: *Demographic variable - Educational Qualification of the account holder*\n",
    "7. **Marital_Status**: *Demographic variable - Married, Single, Divorced, Unknown*\n",
    "8. **Income_Category**: *Demographic variable - Annual Income Category of the account holder*\n",
    "9. **Card_Category**: *Product variable - Type of card*\n",
    "10. **Months_on_book**: *Period of relationship with bank*\n",
    "11. **Total_Relationship_Count**: *Total number of products held by the customer*\n",
    "12. **Months_Inactive_12_mon**: *Number of months inactive in the last 12 months*\n",
    "13. **Contacts_Count_12_mon**: *Number of contacts in the last 12 months*\n",
    "14. **Credit_Limit**: *Credit limit on the Credit Card*\n",
    "15. **Total_Revolving_Bal**: *Total revolving balance on the Credit Card*\n",
    "16. **Avg_Open_To_Buy**: *Open to Buy Credit Line (Average of last 12 months)*\n",
    "17. **Total_Amt_Chng_Q4_Q1**: *Change in Transaction Amount (Q4 over Q1)*\n",
    "18. **Total_Trans_Amt**: *Total transaction amount (last 12 months)*\n",
    "19. **Total_Trans_Ct**: *Total transaction count (last 12 months)*\n",
    "20. **Total_Ct_Chng_Q4_Q1**: *Change in transaction count (Q4 over Q1)*\n",
    "21. **Avg_Utilization_Ratio**: *Average card utilization ratio*\n",
    "22. **Naive_Bayes_Classifier_Attrition_Flag_Card_Category_Contacts_Count_12_mon_Dependent_count_Education_Level_Months_Inactive_12_mon_2**: *Naive Bayes - note from author to remove*\n",
    "23. **Naive_Bayes_Classifier_Attrition_Flag_Card_Category_Contacts_Count_12_mon_Dependent_count_Education_Level_Months_Inactive_12_mon_1** *Naive Bayes - note from author to remove*\n",
    "\n",
    "\n",
    "\n",
    "\n",
    "\n",
    "\n",
    "Before beginning the cleaning process, it is beneficial to be familiar with the descriptive statistics of the numerical variables. "
   ]
  },
  {
   "cell_type": "code",
   "execution_count": 5,
   "metadata": {},
   "outputs": [
    {
     "data": {
      "text/html": [
       "<div>\n",
       "<style scoped>\n",
       "    .dataframe tbody tr th:only-of-type {\n",
       "        vertical-align: middle;\n",
       "    }\n",
       "\n",
       "    .dataframe tbody tr th {\n",
       "        vertical-align: top;\n",
       "    }\n",
       "\n",
       "    .dataframe thead th {\n",
       "        text-align: right;\n",
       "    }\n",
       "</style>\n",
       "<table border=\"1\" class=\"dataframe\">\n",
       "  <thead>\n",
       "    <tr style=\"text-align: right;\">\n",
       "      <th></th>\n",
       "      <th>CLIENTNUM</th>\n",
       "      <th>Customer_Age</th>\n",
       "      <th>Dependent_count</th>\n",
       "      <th>Months_on_book</th>\n",
       "      <th>Total_Relationship_Count</th>\n",
       "      <th>Months_Inactive_12_mon</th>\n",
       "      <th>Contacts_Count_12_mon</th>\n",
       "      <th>Credit_Limit</th>\n",
       "      <th>Total_Revolving_Bal</th>\n",
       "      <th>Avg_Open_To_Buy</th>\n",
       "      <th>Total_Amt_Chng_Q4_Q1</th>\n",
       "      <th>Total_Trans_Amt</th>\n",
       "      <th>Total_Trans_Ct</th>\n",
       "      <th>Total_Ct_Chng_Q4_Q1</th>\n",
       "      <th>Avg_Utilization_Ratio</th>\n",
       "      <th>Naive_Bayes_Classifier_Attrition_Flag_Card_Category_Contacts_Count_12_mon_Dependent_count_Education_Level_Months_Inactive_12_mon_1</th>\n",
       "      <th>Naive_Bayes_Classifier_Attrition_Flag_Card_Category_Contacts_Count_12_mon_Dependent_count_Education_Level_Months_Inactive_12_mon_2</th>\n",
       "    </tr>\n",
       "  </thead>\n",
       "  <tbody>\n",
       "    <tr>\n",
       "      <th>count</th>\n",
       "      <td>1.012700e+04</td>\n",
       "      <td>10127.000000</td>\n",
       "      <td>10127.000000</td>\n",
       "      <td>10127.000000</td>\n",
       "      <td>10127.000000</td>\n",
       "      <td>10127.000000</td>\n",
       "      <td>10127.000000</td>\n",
       "      <td>10127.000000</td>\n",
       "      <td>10127.000000</td>\n",
       "      <td>10127.000000</td>\n",
       "      <td>10127.000000</td>\n",
       "      <td>10127.000000</td>\n",
       "      <td>10127.000000</td>\n",
       "      <td>10127.000000</td>\n",
       "      <td>10127.000000</td>\n",
       "      <td>10127.000000</td>\n",
       "      <td>10127.000000</td>\n",
       "    </tr>\n",
       "    <tr>\n",
       "      <th>mean</th>\n",
       "      <td>7.391776e+08</td>\n",
       "      <td>46.325960</td>\n",
       "      <td>2.346203</td>\n",
       "      <td>35.928409</td>\n",
       "      <td>3.812580</td>\n",
       "      <td>2.341167</td>\n",
       "      <td>2.455317</td>\n",
       "      <td>8631.953698</td>\n",
       "      <td>1162.814061</td>\n",
       "      <td>7469.139637</td>\n",
       "      <td>0.759941</td>\n",
       "      <td>4404.086304</td>\n",
       "      <td>64.858695</td>\n",
       "      <td>0.712222</td>\n",
       "      <td>0.274894</td>\n",
       "      <td>0.159997</td>\n",
       "      <td>0.840003</td>\n",
       "    </tr>\n",
       "    <tr>\n",
       "      <th>std</th>\n",
       "      <td>3.690378e+07</td>\n",
       "      <td>8.016814</td>\n",
       "      <td>1.298908</td>\n",
       "      <td>7.986416</td>\n",
       "      <td>1.554408</td>\n",
       "      <td>1.010622</td>\n",
       "      <td>1.106225</td>\n",
       "      <td>9088.776650</td>\n",
       "      <td>814.987335</td>\n",
       "      <td>9090.685324</td>\n",
       "      <td>0.219207</td>\n",
       "      <td>3397.129254</td>\n",
       "      <td>23.472570</td>\n",
       "      <td>0.238086</td>\n",
       "      <td>0.275691</td>\n",
       "      <td>0.365301</td>\n",
       "      <td>0.365301</td>\n",
       "    </tr>\n",
       "    <tr>\n",
       "      <th>min</th>\n",
       "      <td>7.080821e+08</td>\n",
       "      <td>26.000000</td>\n",
       "      <td>0.000000</td>\n",
       "      <td>13.000000</td>\n",
       "      <td>1.000000</td>\n",
       "      <td>0.000000</td>\n",
       "      <td>0.000000</td>\n",
       "      <td>1438.300000</td>\n",
       "      <td>0.000000</td>\n",
       "      <td>3.000000</td>\n",
       "      <td>0.000000</td>\n",
       "      <td>510.000000</td>\n",
       "      <td>10.000000</td>\n",
       "      <td>0.000000</td>\n",
       "      <td>0.000000</td>\n",
       "      <td>0.000008</td>\n",
       "      <td>0.000420</td>\n",
       "    </tr>\n",
       "    <tr>\n",
       "      <th>25%</th>\n",
       "      <td>7.130368e+08</td>\n",
       "      <td>41.000000</td>\n",
       "      <td>1.000000</td>\n",
       "      <td>31.000000</td>\n",
       "      <td>3.000000</td>\n",
       "      <td>2.000000</td>\n",
       "      <td>2.000000</td>\n",
       "      <td>2555.000000</td>\n",
       "      <td>359.000000</td>\n",
       "      <td>1324.500000</td>\n",
       "      <td>0.631000</td>\n",
       "      <td>2155.500000</td>\n",
       "      <td>45.000000</td>\n",
       "      <td>0.582000</td>\n",
       "      <td>0.023000</td>\n",
       "      <td>0.000099</td>\n",
       "      <td>0.999660</td>\n",
       "    </tr>\n",
       "    <tr>\n",
       "      <th>50%</th>\n",
       "      <td>7.179264e+08</td>\n",
       "      <td>46.000000</td>\n",
       "      <td>2.000000</td>\n",
       "      <td>36.000000</td>\n",
       "      <td>4.000000</td>\n",
       "      <td>2.000000</td>\n",
       "      <td>2.000000</td>\n",
       "      <td>4549.000000</td>\n",
       "      <td>1276.000000</td>\n",
       "      <td>3474.000000</td>\n",
       "      <td>0.736000</td>\n",
       "      <td>3899.000000</td>\n",
       "      <td>67.000000</td>\n",
       "      <td>0.702000</td>\n",
       "      <td>0.176000</td>\n",
       "      <td>0.000181</td>\n",
       "      <td>0.999820</td>\n",
       "    </tr>\n",
       "    <tr>\n",
       "      <th>75%</th>\n",
       "      <td>7.731435e+08</td>\n",
       "      <td>52.000000</td>\n",
       "      <td>3.000000</td>\n",
       "      <td>40.000000</td>\n",
       "      <td>5.000000</td>\n",
       "      <td>3.000000</td>\n",
       "      <td>3.000000</td>\n",
       "      <td>11067.500000</td>\n",
       "      <td>1784.000000</td>\n",
       "      <td>9859.000000</td>\n",
       "      <td>0.859000</td>\n",
       "      <td>4741.000000</td>\n",
       "      <td>81.000000</td>\n",
       "      <td>0.818000</td>\n",
       "      <td>0.503000</td>\n",
       "      <td>0.000337</td>\n",
       "      <td>0.999900</td>\n",
       "    </tr>\n",
       "    <tr>\n",
       "      <th>max</th>\n",
       "      <td>8.283431e+08</td>\n",
       "      <td>73.000000</td>\n",
       "      <td>5.000000</td>\n",
       "      <td>56.000000</td>\n",
       "      <td>6.000000</td>\n",
       "      <td>6.000000</td>\n",
       "      <td>6.000000</td>\n",
       "      <td>34516.000000</td>\n",
       "      <td>2517.000000</td>\n",
       "      <td>34516.000000</td>\n",
       "      <td>3.397000</td>\n",
       "      <td>18484.000000</td>\n",
       "      <td>139.000000</td>\n",
       "      <td>3.714000</td>\n",
       "      <td>0.999000</td>\n",
       "      <td>0.999580</td>\n",
       "      <td>0.999990</td>\n",
       "    </tr>\n",
       "  </tbody>\n",
       "</table>\n",
       "</div>"
      ],
      "text/plain": [
       "          CLIENTNUM  Customer_Age  Dependent_count  Months_on_book  \\\n",
       "count  1.012700e+04  10127.000000     10127.000000    10127.000000   \n",
       "mean   7.391776e+08     46.325960         2.346203       35.928409   \n",
       "std    3.690378e+07      8.016814         1.298908        7.986416   \n",
       "min    7.080821e+08     26.000000         0.000000       13.000000   \n",
       "25%    7.130368e+08     41.000000         1.000000       31.000000   \n",
       "50%    7.179264e+08     46.000000         2.000000       36.000000   \n",
       "75%    7.731435e+08     52.000000         3.000000       40.000000   \n",
       "max    8.283431e+08     73.000000         5.000000       56.000000   \n",
       "\n",
       "       Total_Relationship_Count  Months_Inactive_12_mon  \\\n",
       "count              10127.000000            10127.000000   \n",
       "mean                   3.812580                2.341167   \n",
       "std                    1.554408                1.010622   \n",
       "min                    1.000000                0.000000   \n",
       "25%                    3.000000                2.000000   \n",
       "50%                    4.000000                2.000000   \n",
       "75%                    5.000000                3.000000   \n",
       "max                    6.000000                6.000000   \n",
       "\n",
       "       Contacts_Count_12_mon  Credit_Limit  Total_Revolving_Bal  \\\n",
       "count           10127.000000  10127.000000         10127.000000   \n",
       "mean                2.455317   8631.953698          1162.814061   \n",
       "std                 1.106225   9088.776650           814.987335   \n",
       "min                 0.000000   1438.300000             0.000000   \n",
       "25%                 2.000000   2555.000000           359.000000   \n",
       "50%                 2.000000   4549.000000          1276.000000   \n",
       "75%                 3.000000  11067.500000          1784.000000   \n",
       "max                 6.000000  34516.000000          2517.000000   \n",
       "\n",
       "       Avg_Open_To_Buy  Total_Amt_Chng_Q4_Q1  Total_Trans_Amt  Total_Trans_Ct  \\\n",
       "count     10127.000000          10127.000000     10127.000000    10127.000000   \n",
       "mean       7469.139637              0.759941      4404.086304       64.858695   \n",
       "std        9090.685324              0.219207      3397.129254       23.472570   \n",
       "min           3.000000              0.000000       510.000000       10.000000   \n",
       "25%        1324.500000              0.631000      2155.500000       45.000000   \n",
       "50%        3474.000000              0.736000      3899.000000       67.000000   \n",
       "75%        9859.000000              0.859000      4741.000000       81.000000   \n",
       "max       34516.000000              3.397000     18484.000000      139.000000   \n",
       "\n",
       "       Total_Ct_Chng_Q4_Q1  Avg_Utilization_Ratio  \\\n",
       "count         10127.000000           10127.000000   \n",
       "mean              0.712222               0.274894   \n",
       "std               0.238086               0.275691   \n",
       "min               0.000000               0.000000   \n",
       "25%               0.582000               0.023000   \n",
       "50%               0.702000               0.176000   \n",
       "75%               0.818000               0.503000   \n",
       "max               3.714000               0.999000   \n",
       "\n",
       "       Naive_Bayes_Classifier_Attrition_Flag_Card_Category_Contacts_Count_12_mon_Dependent_count_Education_Level_Months_Inactive_12_mon_1  \\\n",
       "count                                       10127.000000                                                                                    \n",
       "mean                                            0.159997                                                                                    \n",
       "std                                             0.365301                                                                                    \n",
       "min                                             0.000008                                                                                    \n",
       "25%                                             0.000099                                                                                    \n",
       "50%                                             0.000181                                                                                    \n",
       "75%                                             0.000337                                                                                    \n",
       "max                                             0.999580                                                                                    \n",
       "\n",
       "       Naive_Bayes_Classifier_Attrition_Flag_Card_Category_Contacts_Count_12_mon_Dependent_count_Education_Level_Months_Inactive_12_mon_2  \n",
       "count                                       10127.000000                                                                                   \n",
       "mean                                            0.840003                                                                                   \n",
       "std                                             0.365301                                                                                   \n",
       "min                                             0.000420                                                                                   \n",
       "25%                                             0.999660                                                                                   \n",
       "50%                                             0.999820                                                                                   \n",
       "75%                                             0.999900                                                                                   \n",
       "max                                             0.999990                                                                                   "
      ]
     },
     "execution_count": 5,
     "metadata": {},
     "output_type": "execute_result"
    }
   ],
   "source": [
    "#Use the describe() function to evaluate descriptive stats\n",
    "credit_df.describe()"
   ]
  },
  {
   "cell_type": "markdown",
   "metadata": {},
   "source": [
    "# Data Cleaning"
   ]
  },
  {
   "cell_type": "markdown",
   "metadata": {},
   "source": [
    "Based on our initial understanding of the data set we are working with, it is clear that some variables should be dropped - as they would not provide anything useful to our modeling or analysis. \n",
    "\n",
    "**CLIENTNUM** should be dropped, this is the client ID number - would not provide anything useful\n",
    "\n",
    "**Naive_Bayes_Classifier_Attrition_Flag_Card_Category_Contacts_Count_12_mon_Dependent_count_Education_Level_Months_Inactive_12_mon_2** Notebook author noted that this column should be ignored and deleted \n",
    "\n",
    "**Naive_Bayes_Classifier_Attrition_Flag_Card_Category_Contacts_Count_12_mon_Dependent_count_Education_Level_Months_Inactive_12_mon_1** Notebook author noted that this column should be ignored and deleted\n",
    "\n",
    "The remainder of the variables provide unique information on the customer that may influence the ultimate outcome of closing their credit card account. "
   ]
  },
  {
   "cell_type": "code",
   "execution_count": 6,
   "metadata": {},
   "outputs": [],
   "source": [
    "#Drop irrelevant columns \n",
    "credit_clean_df = credit_df.drop(columns=['CLIENTNUM',\n",
    "        'Naive_Bayes_Classifier_Attrition_Flag_Card_Category_Contacts_Count_12_mon_Dependent_count_Education_Level_Months_Inactive_12_mon_1',\n",
    "        'Naive_Bayes_Classifier_Attrition_Flag_Card_Category_Contacts_Count_12_mon_Dependent_count_Education_Level_Months_Inactive_12_mon_2'])"
   ]
  },
  {
   "cell_type": "code",
   "execution_count": 7,
   "metadata": {},
   "outputs": [
    {
     "name": "stdout",
     "output_type": "stream",
     "text": [
      "<class 'pandas.core.frame.DataFrame'>\n",
      "RangeIndex: 10127 entries, 0 to 10126\n",
      "Data columns (total 20 columns):\n",
      " #   Column                    Non-Null Count  Dtype  \n",
      "---  ------                    --------------  -----  \n",
      " 0   Attrition_Flag            10127 non-null  object \n",
      " 1   Customer_Age              10127 non-null  int64  \n",
      " 2   Gender                    10127 non-null  object \n",
      " 3   Dependent_count           10127 non-null  int64  \n",
      " 4   Education_Level           10127 non-null  object \n",
      " 5   Marital_Status            10127 non-null  object \n",
      " 6   Income_Category           10127 non-null  object \n",
      " 7   Card_Category             10127 non-null  object \n",
      " 8   Months_on_book            10127 non-null  int64  \n",
      " 9   Total_Relationship_Count  10127 non-null  int64  \n",
      " 10  Months_Inactive_12_mon    10127 non-null  int64  \n",
      " 11  Contacts_Count_12_mon     10127 non-null  int64  \n",
      " 12  Credit_Limit              10127 non-null  float64\n",
      " 13  Total_Revolving_Bal       10127 non-null  int64  \n",
      " 14  Avg_Open_To_Buy           10127 non-null  float64\n",
      " 15  Total_Amt_Chng_Q4_Q1      10127 non-null  float64\n",
      " 16  Total_Trans_Amt           10127 non-null  int64  \n",
      " 17  Total_Trans_Ct            10127 non-null  int64  \n",
      " 18  Total_Ct_Chng_Q4_Q1       10127 non-null  float64\n",
      " 19  Avg_Utilization_Ratio     10127 non-null  float64\n",
      "dtypes: float64(5), int64(9), object(6)\n",
      "memory usage: 1.5+ MB\n"
     ]
    }
   ],
   "source": [
    "#Check that the columns were dropped properly\n",
    "credit_clean_df.info()"
   ]
  },
  {
   "cell_type": "markdown",
   "metadata": {},
   "source": [
    "There are now 20 columns with 10127 observations in total. No columns have any nulls present, so no cleaning is required on that end. There are multiple variables within this data set that are not numbers and need to be encoded as such so that they can be fed into our developed models and run properly. There are six different object variables.\n",
    "\n",
    "Object variables that need to be cleaned / one-hot encoded / label encoded:\n",
    "- Attrition Flag\n",
    "- Gender\n",
    "- Education Level\n",
    "- Marital Status \n",
    "- Income Category \n",
    "- Card Category "
   ]
  },
  {
   "cell_type": "markdown",
   "metadata": {},
   "source": [
    "#### Attrition Flag Encoding\n",
    "To view all values and their respective counts, use the .value_counts() function on the **Attrition_Flag** column. This way we will know the string values - giving us insight as to how we should encode them."
   ]
  },
  {
   "cell_type": "code",
   "execution_count": 8,
   "metadata": {},
   "outputs": [
    {
     "data": {
      "text/plain": [
       "Existing Customer    8500\n",
       "Attrited Customer    1627\n",
       "Name: Attrition_Flag, dtype: int64"
      ]
     },
     "execution_count": 8,
     "metadata": {},
     "output_type": "execute_result"
    }
   ],
   "source": [
    "credit_clean_df['Attrition_Flag'].value_counts()"
   ]
  },
  {
   "cell_type": "markdown",
   "metadata": {},
   "source": [
    "Redeclare the values in the column by mapping a dictionary of corresponding new values. In this case, encoding *existing customer* as 0 and *attrited customer* as 1 makes the most sense - we are looking to evaluate the factors that make a customer closer their account - model outputs will be most interpretable if the *attrited customers* are the positive case within this variable. "
   ]
  },
  {
   "cell_type": "code",
   "execution_count": 9,
   "metadata": {},
   "outputs": [],
   "source": [
    "credit_clean_df['Attrition_Flag'] = credit_clean_df['Attrition_Flag'].map({'Existing Customer': 0, 'Attrited Customer': 1})"
   ]
  },
  {
   "cell_type": "markdown",
   "metadata": {},
   "source": [
    "#### Marital Status Encoding\n",
    "Repeat the previous process to view all string values in the **Marital_Status** column. "
   ]
  },
  {
   "cell_type": "code",
   "execution_count": 10,
   "metadata": {},
   "outputs": [
    {
     "data": {
      "text/plain": [
       "Married     4687\n",
       "Single      3943\n",
       "Unknown      749\n",
       "Divorced     748\n",
       "Name: Marital_Status, dtype: int64"
      ]
     },
     "execution_count": 10,
     "metadata": {},
     "output_type": "execute_result"
    }
   ],
   "source": [
    "credit_clean_df['Marital_Status'].value_counts()"
   ]
  },
  {
   "cell_type": "markdown",
   "metadata": {},
   "source": [
    "Marital status is an object variable with no clear order that we can interpret numerically, so it makes the most sense to one-hot encode and create dummy variables for each value. "
   ]
  },
  {
   "cell_type": "markdown",
   "metadata": {},
   "source": [
    "#### Gender Encoding\n",
    "Repeat the previous process to view all string values in the **Gender** column. "
   ]
  },
  {
   "cell_type": "code",
   "execution_count": 11,
   "metadata": {},
   "outputs": [
    {
     "data": {
      "text/plain": [
       "F    5358\n",
       "M    4769\n",
       "Name: Gender, dtype: int64"
      ]
     },
     "execution_count": 11,
     "metadata": {},
     "output_type": "execute_result"
    }
   ],
   "source": [
    "credit_clean_df['Gender'].value_counts()"
   ]
  },
  {
   "cell_type": "markdown",
   "metadata": {},
   "source": [
    "Gender also has no clear order that we can interpret numerically, so this should be encoded using one-hot encoding as well. Both **Marital_Status** and **Gender** can be encoded in the same line."
   ]
  },
  {
   "cell_type": "code",
   "execution_count": 12,
   "metadata": {},
   "outputs": [],
   "source": [
    "credit_clean_df = pd.get_dummies(credit_clean_df, columns = ['Marital_Status', 'Gender'], dtype=int)"
   ]
  },
  {
   "cell_type": "markdown",
   "metadata": {},
   "source": [
    "#### Education Level Encoding\n",
    "Repeat the previous process to view all string values in the **Education_Level** column. "
   ]
  },
  {
   "cell_type": "code",
   "execution_count": 13,
   "metadata": {},
   "outputs": [
    {
     "data": {
      "text/plain": [
       "Graduate         3128\n",
       "High School      2013\n",
       "Unknown          1519\n",
       "Uneducated       1487\n",
       "College          1013\n",
       "Post-Graduate     516\n",
       "Doctorate         451\n",
       "Name: Education_Level, dtype: int64"
      ]
     },
     "execution_count": 13,
     "metadata": {},
     "output_type": "execute_result"
    }
   ],
   "source": [
    "credit_clean_df['Education_Level'].value_counts()"
   ]
  },
  {
   "cell_type": "markdown",
   "metadata": {},
   "source": [
    "Unlike Gender and Marital Status, Education level has a natural ranking and should be label encoded. The label encoder function, by default, ranks the object variable based on alphabetical value - this would be a potential cause for confusion when it comes time to interpret. To avoid this mislabeling we are manually encoding these labels.\n",
    "\n",
    "Based on the values shown above, we are encoding as follows:\n",
    "- 0 = Unknown\n",
    "- 1 = Uneducated \n",
    "- 2 = High School\n",
    "- 3 = College\n",
    "- 4 = Graduate\n",
    "- 5 = Post-Graduate\n",
    "- 6 = Doctorate \n",
    "\n",
    "This way we can interpret higher values here to be higher education level reached. "
   ]
  },
  {
   "cell_type": "code",
   "execution_count": 14,
   "metadata": {},
   "outputs": [
    {
     "data": {
      "text/plain": [
       "4    3128\n",
       "2    2013\n",
       "0    1519\n",
       "1    1487\n",
       "3    1013\n",
       "5     516\n",
       "6     451\n",
       "Name: Education_Level, dtype: int64"
      ]
     },
     "execution_count": 14,
     "metadata": {},
     "output_type": "execute_result"
    }
   ],
   "source": [
    "credit_clean_df['Education_Level'] = credit_clean_df['Education_Level'].apply(lambda x: ['Unknown', 'Uneducated', 'High School', 'College', 'Graduate', 'Post-Graduate', 'Doctorate'].index(x))\n",
    "credit_clean_df['Education_Level'].value_counts()"
   ]
  },
  {
   "cell_type": "markdown",
   "metadata": {},
   "source": [
    "#### Income Category Encoding\n",
    "Repeat the previous process to view all string values in the **Income_Category** column. "
   ]
  },
  {
   "cell_type": "code",
   "execution_count": 15,
   "metadata": {},
   "outputs": [
    {
     "data": {
      "text/plain": [
       "Less than $40K    3561\n",
       "$40K - $60K       1790\n",
       "$80K - $120K      1535\n",
       "$60K - $80K       1402\n",
       "Unknown           1112\n",
       "$120K +            727\n",
       "Name: Income_Category, dtype: int64"
      ]
     },
     "execution_count": 15,
     "metadata": {},
     "output_type": "execute_result"
    }
   ],
   "source": [
    "credit_clean_df['Income_Category'].value_counts()"
   ]
  },
  {
   "cell_type": "markdown",
   "metadata": {},
   "source": [
    "The same is true here as it was for **Education_Level**, this variable has a natural ranking. These values will need to be manually encoded as well.\n",
    "\n",
    "Based on the values shown above, we are encoding as follows:\n",
    "- 0 = Unknown\n",
    "- 1 = Less than 40K \n",
    "- 2 = 40K - 60K\n",
    "- 3 = 60K - 80K\n",
    "- 4 = 80K - 120K\n",
    "- 5 = 120K+\n",
    "\n",
    "This way we can interpret higher values here to be higher income category of customer. "
   ]
  },
  {
   "cell_type": "code",
   "execution_count": 16,
   "metadata": {},
   "outputs": [
    {
     "data": {
      "text/plain": [
       "1    3561\n",
       "2    1790\n",
       "4    1535\n",
       "3    1402\n",
       "0    1112\n",
       "5     727\n",
       "Name: Income_Category, dtype: int64"
      ]
     },
     "execution_count": 16,
     "metadata": {},
     "output_type": "execute_result"
    }
   ],
   "source": [
    "credit_clean_df['Income_Category'] = credit_clean_df['Income_Category'].apply(lambda x: ['Unknown', 'Less than $40K', '$40K - $60K', '$60K - $80K', '$80K - $120K', '$120K +'].index(x))\n",
    "credit_clean_df['Income_Category'].value_counts()"
   ]
  },
  {
   "cell_type": "markdown",
   "metadata": {},
   "source": [
    "#### Card Category Encoding\n",
    "Repeat the previous process to view all string values in the **Card_Category** column. "
   ]
  },
  {
   "cell_type": "code",
   "execution_count": 17,
   "metadata": {},
   "outputs": [
    {
     "data": {
      "text/plain": [
       "Blue        9436\n",
       "Silver       555\n",
       "Gold         116\n",
       "Platinum      20\n",
       "Name: Card_Category, dtype: int64"
      ]
     },
     "execution_count": 17,
     "metadata": {},
     "output_type": "execute_result"
    }
   ],
   "source": [
    "credit_clean_df['Card_Category'].value_counts()"
   ]
  },
  {
   "cell_type": "markdown",
   "metadata": {},
   "source": [
    "This variable has a natural ranking just like the previous two. These values will need to be manually encoded as well.\n",
    "\n",
    "Based on the values shown above, we are encoding as follows:\n",
    "- 0 = Blue\n",
    "- 1 = Silver\n",
    "- 2 = Gold\n",
    "- 3 = Platinum\n",
    "\n",
    "This way we can interpret higher values here to be higher card category / tier of customer. "
   ]
  },
  {
   "cell_type": "code",
   "execution_count": 18,
   "metadata": {},
   "outputs": [
    {
     "data": {
      "text/plain": [
       "0    9436\n",
       "1     555\n",
       "2     116\n",
       "3      20\n",
       "Name: Card_Category, dtype: int64"
      ]
     },
     "execution_count": 18,
     "metadata": {},
     "output_type": "execute_result"
    }
   ],
   "source": [
    "credit_clean_df['Card_Category'] = credit_clean_df['Card_Category'].apply(lambda x: ['Blue', 'Silver', 'Gold', 'Platinum'].index(x))\n",
    "credit_clean_df['Card_Category'].value_counts()"
   ]
  },
  {
   "cell_type": "markdown",
   "metadata": {},
   "source": [
    "Evaluate the resulting data frame."
   ]
  },
  {
   "cell_type": "code",
   "execution_count": 19,
   "metadata": {},
   "outputs": [
    {
     "name": "stdout",
     "output_type": "stream",
     "text": [
      "<class 'pandas.core.frame.DataFrame'>\n",
      "RangeIndex: 10127 entries, 0 to 10126\n",
      "Data columns (total 24 columns):\n",
      " #   Column                    Non-Null Count  Dtype  \n",
      "---  ------                    --------------  -----  \n",
      " 0   Attrition_Flag            10127 non-null  int64  \n",
      " 1   Customer_Age              10127 non-null  int64  \n",
      " 2   Dependent_count           10127 non-null  int64  \n",
      " 3   Education_Level           10127 non-null  int64  \n",
      " 4   Income_Category           10127 non-null  int64  \n",
      " 5   Card_Category             10127 non-null  int64  \n",
      " 6   Months_on_book            10127 non-null  int64  \n",
      " 7   Total_Relationship_Count  10127 non-null  int64  \n",
      " 8   Months_Inactive_12_mon    10127 non-null  int64  \n",
      " 9   Contacts_Count_12_mon     10127 non-null  int64  \n",
      " 10  Credit_Limit              10127 non-null  float64\n",
      " 11  Total_Revolving_Bal       10127 non-null  int64  \n",
      " 12  Avg_Open_To_Buy           10127 non-null  float64\n",
      " 13  Total_Amt_Chng_Q4_Q1      10127 non-null  float64\n",
      " 14  Total_Trans_Amt           10127 non-null  int64  \n",
      " 15  Total_Trans_Ct            10127 non-null  int64  \n",
      " 16  Total_Ct_Chng_Q4_Q1       10127 non-null  float64\n",
      " 17  Avg_Utilization_Ratio     10127 non-null  float64\n",
      " 18  Marital_Status_Divorced   10127 non-null  int32  \n",
      " 19  Marital_Status_Married    10127 non-null  int32  \n",
      " 20  Marital_Status_Single     10127 non-null  int32  \n",
      " 21  Marital_Status_Unknown    10127 non-null  int32  \n",
      " 22  Gender_F                  10127 non-null  int32  \n",
      " 23  Gender_M                  10127 non-null  int32  \n",
      "dtypes: float64(5), int32(6), int64(13)\n",
      "memory usage: 1.6 MB\n"
     ]
    }
   ],
   "source": [
    "credit_clean_df.info()"
   ]
  },
  {
   "cell_type": "markdown",
   "metadata": {},
   "source": [
    "Now there are 23 columns due to the one-hot encoding of **Gender** and **Marital_Status**. Also after encoding, there are still no nulls, and now there are no longer and variables that are *object* DType. Since our data set is now all numbers, we can use **credit_clean_df** to run statistical analysis and begin our modeling phase."
   ]
  },
  {
   "cell_type": "markdown",
   "metadata": {},
   "source": [
    "#### Evaluating 'Unknown' Values in Categorical Columns"
   ]
  },
  {
   "cell_type": "markdown",
   "metadata": {},
   "source": [
    "After looking at the values of each of the categorical variables, another potential cleaning issue came to surface. Even though the data frame has no null values, there is still missing information. In the variables, **Marital_Status**, **Education_Level** and **Income_Category**, there are 'Unknown' values. If there are observations with multiple 'Unknown' values for multiple categories then it may be a good idea to drop these observations. Otherwise, 'Unknown' will stay encoded as the numerical value of 0 for **Income_Category** and **Education_Level**, and one-hot encoded for **Marital_Status**. "
   ]
  },
  {
   "cell_type": "markdown",
   "metadata": {},
   "source": [
    "Looking into the 'Unknown' values to see if there are any observations with multiple pieces of unknown data. For simplicity, we will use the original dataframe, **credit_df** (not encoded), to check the number of observations that have multiple 'Unknown' values."
   ]
  },
  {
   "cell_type": "code",
   "execution_count": 20,
   "metadata": {},
   "outputs": [
    {
     "data": {
      "text/html": [
       "<div>\n",
       "<style scoped>\n",
       "    .dataframe tbody tr th:only-of-type {\n",
       "        vertical-align: middle;\n",
       "    }\n",
       "\n",
       "    .dataframe tbody tr th {\n",
       "        vertical-align: top;\n",
       "    }\n",
       "\n",
       "    .dataframe thead th {\n",
       "        text-align: right;\n",
       "    }\n",
       "</style>\n",
       "<table border=\"1\" class=\"dataframe\">\n",
       "  <thead>\n",
       "    <tr style=\"text-align: right;\">\n",
       "      <th></th>\n",
       "      <th>CLIENTNUM</th>\n",
       "      <th>Attrition_Flag</th>\n",
       "      <th>Customer_Age</th>\n",
       "      <th>Gender</th>\n",
       "      <th>Dependent_count</th>\n",
       "      <th>Education_Level</th>\n",
       "      <th>Marital_Status</th>\n",
       "      <th>Income_Category</th>\n",
       "      <th>Card_Category</th>\n",
       "      <th>Months_on_book</th>\n",
       "      <th>...</th>\n",
       "      <th>Credit_Limit</th>\n",
       "      <th>Total_Revolving_Bal</th>\n",
       "      <th>Avg_Open_To_Buy</th>\n",
       "      <th>Total_Amt_Chng_Q4_Q1</th>\n",
       "      <th>Total_Trans_Amt</th>\n",
       "      <th>Total_Trans_Ct</th>\n",
       "      <th>Total_Ct_Chng_Q4_Q1</th>\n",
       "      <th>Avg_Utilization_Ratio</th>\n",
       "      <th>Naive_Bayes_Classifier_Attrition_Flag_Card_Category_Contacts_Count_12_mon_Dependent_count_Education_Level_Months_Inactive_12_mon_1</th>\n",
       "      <th>Naive_Bayes_Classifier_Attrition_Flag_Card_Category_Contacts_Count_12_mon_Dependent_count_Education_Level_Months_Inactive_12_mon_2</th>\n",
       "    </tr>\n",
       "  </thead>\n",
       "  <tbody>\n",
       "    <tr>\n",
       "      <th>0</th>\n",
       "      <td>768805383</td>\n",
       "      <td>Existing Customer</td>\n",
       "      <td>45</td>\n",
       "      <td>M</td>\n",
       "      <td>3</td>\n",
       "      <td>High School</td>\n",
       "      <td>Married</td>\n",
       "      <td>$60K - $80K</td>\n",
       "      <td>Blue</td>\n",
       "      <td>39</td>\n",
       "      <td>...</td>\n",
       "      <td>12691.0</td>\n",
       "      <td>777</td>\n",
       "      <td>11914.0</td>\n",
       "      <td>1.335</td>\n",
       "      <td>1144</td>\n",
       "      <td>42</td>\n",
       "      <td>1.625</td>\n",
       "      <td>0.061</td>\n",
       "      <td>0.000093</td>\n",
       "      <td>0.99991</td>\n",
       "    </tr>\n",
       "    <tr>\n",
       "      <th>1</th>\n",
       "      <td>818770008</td>\n",
       "      <td>Existing Customer</td>\n",
       "      <td>49</td>\n",
       "      <td>F</td>\n",
       "      <td>5</td>\n",
       "      <td>Graduate</td>\n",
       "      <td>Single</td>\n",
       "      <td>Less than $40K</td>\n",
       "      <td>Blue</td>\n",
       "      <td>44</td>\n",
       "      <td>...</td>\n",
       "      <td>8256.0</td>\n",
       "      <td>864</td>\n",
       "      <td>7392.0</td>\n",
       "      <td>1.541</td>\n",
       "      <td>1291</td>\n",
       "      <td>33</td>\n",
       "      <td>3.714</td>\n",
       "      <td>0.105</td>\n",
       "      <td>0.000057</td>\n",
       "      <td>0.99994</td>\n",
       "    </tr>\n",
       "    <tr>\n",
       "      <th>2</th>\n",
       "      <td>713982108</td>\n",
       "      <td>Existing Customer</td>\n",
       "      <td>51</td>\n",
       "      <td>M</td>\n",
       "      <td>3</td>\n",
       "      <td>Graduate</td>\n",
       "      <td>Married</td>\n",
       "      <td>$80K - $120K</td>\n",
       "      <td>Blue</td>\n",
       "      <td>36</td>\n",
       "      <td>...</td>\n",
       "      <td>3418.0</td>\n",
       "      <td>0</td>\n",
       "      <td>3418.0</td>\n",
       "      <td>2.594</td>\n",
       "      <td>1887</td>\n",
       "      <td>20</td>\n",
       "      <td>2.333</td>\n",
       "      <td>0.000</td>\n",
       "      <td>0.000021</td>\n",
       "      <td>0.99998</td>\n",
       "    </tr>\n",
       "    <tr>\n",
       "      <th>3</th>\n",
       "      <td>769911858</td>\n",
       "      <td>Existing Customer</td>\n",
       "      <td>40</td>\n",
       "      <td>F</td>\n",
       "      <td>4</td>\n",
       "      <td>High School</td>\n",
       "      <td>Unknown</td>\n",
       "      <td>Less than $40K</td>\n",
       "      <td>Blue</td>\n",
       "      <td>34</td>\n",
       "      <td>...</td>\n",
       "      <td>3313.0</td>\n",
       "      <td>2517</td>\n",
       "      <td>796.0</td>\n",
       "      <td>1.405</td>\n",
       "      <td>1171</td>\n",
       "      <td>20</td>\n",
       "      <td>2.333</td>\n",
       "      <td>0.760</td>\n",
       "      <td>0.000134</td>\n",
       "      <td>0.99987</td>\n",
       "    </tr>\n",
       "    <tr>\n",
       "      <th>4</th>\n",
       "      <td>709106358</td>\n",
       "      <td>Existing Customer</td>\n",
       "      <td>40</td>\n",
       "      <td>M</td>\n",
       "      <td>3</td>\n",
       "      <td>Uneducated</td>\n",
       "      <td>Married</td>\n",
       "      <td>$60K - $80K</td>\n",
       "      <td>Blue</td>\n",
       "      <td>21</td>\n",
       "      <td>...</td>\n",
       "      <td>4716.0</td>\n",
       "      <td>0</td>\n",
       "      <td>4716.0</td>\n",
       "      <td>2.175</td>\n",
       "      <td>816</td>\n",
       "      <td>28</td>\n",
       "      <td>2.500</td>\n",
       "      <td>0.000</td>\n",
       "      <td>0.000022</td>\n",
       "      <td>0.99998</td>\n",
       "    </tr>\n",
       "  </tbody>\n",
       "</table>\n",
       "<p>5 rows × 23 columns</p>\n",
       "</div>"
      ],
      "text/plain": [
       "   CLIENTNUM     Attrition_Flag  Customer_Age Gender  Dependent_count  \\\n",
       "0  768805383  Existing Customer            45      M                3   \n",
       "1  818770008  Existing Customer            49      F                5   \n",
       "2  713982108  Existing Customer            51      M                3   \n",
       "3  769911858  Existing Customer            40      F                4   \n",
       "4  709106358  Existing Customer            40      M                3   \n",
       "\n",
       "  Education_Level Marital_Status Income_Category Card_Category  \\\n",
       "0     High School        Married     $60K - $80K          Blue   \n",
       "1        Graduate         Single  Less than $40K          Blue   \n",
       "2        Graduate        Married    $80K - $120K          Blue   \n",
       "3     High School        Unknown  Less than $40K          Blue   \n",
       "4      Uneducated        Married     $60K - $80K          Blue   \n",
       "\n",
       "   Months_on_book  ...  Credit_Limit  Total_Revolving_Bal  Avg_Open_To_Buy  \\\n",
       "0              39  ...       12691.0                  777          11914.0   \n",
       "1              44  ...        8256.0                  864           7392.0   \n",
       "2              36  ...        3418.0                    0           3418.0   \n",
       "3              34  ...        3313.0                 2517            796.0   \n",
       "4              21  ...        4716.0                    0           4716.0   \n",
       "\n",
       "   Total_Amt_Chng_Q4_Q1  Total_Trans_Amt  Total_Trans_Ct  Total_Ct_Chng_Q4_Q1  \\\n",
       "0                 1.335             1144              42                1.625   \n",
       "1                 1.541             1291              33                3.714   \n",
       "2                 2.594             1887              20                2.333   \n",
       "3                 1.405             1171              20                2.333   \n",
       "4                 2.175              816              28                2.500   \n",
       "\n",
       "   Avg_Utilization_Ratio  \\\n",
       "0                  0.061   \n",
       "1                  0.105   \n",
       "2                  0.000   \n",
       "3                  0.760   \n",
       "4                  0.000   \n",
       "\n",
       "   Naive_Bayes_Classifier_Attrition_Flag_Card_Category_Contacts_Count_12_mon_Dependent_count_Education_Level_Months_Inactive_12_mon_1  \\\n",
       "0                                           0.000093                                                                                    \n",
       "1                                           0.000057                                                                                    \n",
       "2                                           0.000021                                                                                    \n",
       "3                                           0.000134                                                                                    \n",
       "4                                           0.000022                                                                                    \n",
       "\n",
       "   Naive_Bayes_Classifier_Attrition_Flag_Card_Category_Contacts_Count_12_mon_Dependent_count_Education_Level_Months_Inactive_12_mon_2  \n",
       "0                                            0.99991                                                                                   \n",
       "1                                            0.99994                                                                                   \n",
       "2                                            0.99998                                                                                   \n",
       "3                                            0.99987                                                                                   \n",
       "4                                            0.99998                                                                                   \n",
       "\n",
       "[5 rows x 23 columns]"
      ]
     },
     "execution_count": 20,
     "metadata": {},
     "output_type": "execute_result"
    }
   ],
   "source": [
    "credit_df.head()"
   ]
  },
  {
   "cell_type": "code",
   "execution_count": 21,
   "metadata": {},
   "outputs": [
    {
     "name": "stdout",
     "output_type": "stream",
     "text": [
      "327\n"
     ]
    }
   ],
   "source": [
    "#Create a copy dataframe \n",
    "unknown_2 = credit_df.copy()\n",
    "\n",
    "#Checking to see how many observations have two values missing / 'unknown'\n",
    "unknown_2['matching1'] = unknown_2.apply(lambda x: x.Marital_Status == x.Education_Level, axis=1)\n",
    "unknown_2['matching2'] = unknown_2.apply(lambda x: x.Marital_Status == x.Income_Category, axis=1)\n",
    "unknown_2['matching3'] = unknown_2.apply(lambda x: x.Income_Category == x.Education_Level, axis=1)\n",
    "\n",
    "#Subset dataframe that returns values only if one of the matches is true\n",
    "unknown_2 = unknown_2[(unknown_2.matching1 == True) | (unknown_2.matching2 == True) | (unknown_2.matching3 == True)]\n",
    "\n",
    "#Return number of observations in the dataframe \n",
    "print(len(unknown_2))"
   ]
  },
  {
   "cell_type": "markdown",
   "metadata": {},
   "source": [
    "There are 327 observations with at least 2 columns of 'Unknown' values. That is the equivalent of about 3.22% of the total observations in the main dataset."
   ]
  },
  {
   "cell_type": "markdown",
   "metadata": {},
   "source": [
    "How many of these observations are from existing customers vs. attrited customers?"
   ]
  },
  {
   "cell_type": "code",
   "execution_count": 22,
   "metadata": {},
   "outputs": [
    {
     "name": "stdout",
     "output_type": "stream",
     "text": [
      "Existing Customer    270\n",
      "Attrited Customer     57\n",
      "Name: Attrition_Flag, dtype: int64\n"
     ]
    }
   ],
   "source": [
    "#Use subset data frame in order to get the value counts of the attrition flag\n",
    "print(unknown_2['Attrition_Flag'].value_counts())"
   ]
  },
  {
   "cell_type": "markdown",
   "metadata": {},
   "source": [
    "Of the 327 observations that have at least 2 columns of 'Unknown' values, 57 of them are attrited customers. There are 1627 attrited customer observations, meaning 3.5% of our attrited customer observations have 2+ 'Unknown' values."
   ]
  },
  {
   "cell_type": "markdown",
   "metadata": {},
   "source": [
    "How many observations have 3 'Unknown' values? "
   ]
  },
  {
   "cell_type": "code",
   "execution_count": 23,
   "metadata": {},
   "outputs": [
    {
     "data": {
      "text/plain": [
       "False    10120\n",
       "True         7\n",
       "Name: matching, dtype: int64"
      ]
     },
     "execution_count": 23,
     "metadata": {},
     "output_type": "execute_result"
    }
   ],
   "source": [
    "unknown_3 = credit_df.copy()\n",
    "unknown_3['matching'] = unknown_3.apply(lambda x: x.Marital_Status == x.Education_Level == x.Income_Category, axis=1)\n",
    "unknown_3['matching'].value_counts()"
   ]
  },
  {
   "cell_type": "markdown",
   "metadata": {},
   "source": [
    "There are 7 observations with 3 columns of 'Unknown' values. That is the equivalent of 0.07% of our data set, it is highly unlikely that such a small number would significantly skew any results."
   ]
  },
  {
   "cell_type": "code",
   "execution_count": 24,
   "metadata": {},
   "outputs": [
    {
     "name": "stdout",
     "output_type": "stream",
     "text": [
      "Existing Customer    6\n",
      "Attrited Customer    1\n",
      "Name: Attrition_Flag, dtype: int64\n"
     ]
    }
   ],
   "source": [
    "#Use subset data frame in order to get the value counts of the attrition flag\n",
    "unknown_3 = unknown_3.loc[unknown_3['matching'] == True]\n",
    "print(unknown_3['Attrition_Flag'].value_counts())"
   ]
  },
  {
   "cell_type": "markdown",
   "metadata": {},
   "source": [
    "There are only 7 cases where marital status, education level, and income category have the same 'Unknown' value. Of those 7, only 1 is an attrited customer - which is a positive sign that such a small number of our target observations have 3 unknown values. We will continue with the full dataset and not drop any observations. "
   ]
  },
  {
   "cell_type": "markdown",
   "metadata": {},
   "source": [
    "# Exploratory Data Analysis"
   ]
  },
  {
   "cell_type": "markdown",
   "metadata": {},
   "source": [
    "Now that the data is cleaned and in a good state to work with, it is time to begin exploring relationships within the data. In this section we will leverage visualization packages and statistical analysis to gain a deeper understanding of the data. \n",
    "\n",
    "**credit_df** is the original data frame (no label encoding)\n",
    "\n",
    "**credit_clean_df** is the data frame that will be used for modeling (label encoded)"
   ]
  },
  {
   "cell_type": "code",
   "execution_count": 25,
   "metadata": {},
   "outputs": [
    {
     "data": {
      "text/html": [
       "<div>\n",
       "<style scoped>\n",
       "    .dataframe tbody tr th:only-of-type {\n",
       "        vertical-align: middle;\n",
       "    }\n",
       "\n",
       "    .dataframe tbody tr th {\n",
       "        vertical-align: top;\n",
       "    }\n",
       "\n",
       "    .dataframe thead th {\n",
       "        text-align: right;\n",
       "    }\n",
       "</style>\n",
       "<table border=\"1\" class=\"dataframe\">\n",
       "  <thead>\n",
       "    <tr style=\"text-align: right;\">\n",
       "      <th></th>\n",
       "      <th>Attrition_Flag</th>\n",
       "      <th>Customer_Age</th>\n",
       "      <th>Dependent_count</th>\n",
       "      <th>Education_Level</th>\n",
       "      <th>Income_Category</th>\n",
       "      <th>Card_Category</th>\n",
       "      <th>Months_on_book</th>\n",
       "      <th>Total_Relationship_Count</th>\n",
       "      <th>Months_Inactive_12_mon</th>\n",
       "      <th>Contacts_Count_12_mon</th>\n",
       "      <th>...</th>\n",
       "      <th>Total_Trans_Amt</th>\n",
       "      <th>Total_Trans_Ct</th>\n",
       "      <th>Total_Ct_Chng_Q4_Q1</th>\n",
       "      <th>Avg_Utilization_Ratio</th>\n",
       "      <th>Marital_Status_Divorced</th>\n",
       "      <th>Marital_Status_Married</th>\n",
       "      <th>Marital_Status_Single</th>\n",
       "      <th>Marital_Status_Unknown</th>\n",
       "      <th>Gender_F</th>\n",
       "      <th>Gender_M</th>\n",
       "    </tr>\n",
       "  </thead>\n",
       "  <tbody>\n",
       "    <tr>\n",
       "      <th>Attrition_Flag</th>\n",
       "      <td>1.000000</td>\n",
       "      <td>0.018203</td>\n",
       "      <td>0.018991</td>\n",
       "      <td>0.008796</td>\n",
       "      <td>-0.013577</td>\n",
       "      <td>0.002354</td>\n",
       "      <td>0.013687</td>\n",
       "      <td>-0.150005</td>\n",
       "      <td>0.152449</td>\n",
       "      <td>0.204491</td>\n",
       "      <td>...</td>\n",
       "      <td>-0.168598</td>\n",
       "      <td>-0.371403</td>\n",
       "      <td>-0.290054</td>\n",
       "      <td>-0.178410</td>\n",
       "      <td>0.000850</td>\n",
       "      <td>-0.023735</td>\n",
       "      <td>0.019037</td>\n",
       "      <td>0.008904</td>\n",
       "      <td>0.037272</td>\n",
       "      <td>-0.037272</td>\n",
       "    </tr>\n",
       "    <tr>\n",
       "      <th>Customer_Age</th>\n",
       "      <td>0.018203</td>\n",
       "      <td>1.000000</td>\n",
       "      <td>-0.122254</td>\n",
       "      <td>-0.002369</td>\n",
       "      <td>0.023508</td>\n",
       "      <td>-0.018235</td>\n",
       "      <td>0.788912</td>\n",
       "      <td>-0.010931</td>\n",
       "      <td>0.054361</td>\n",
       "      <td>-0.018452</td>\n",
       "      <td>...</td>\n",
       "      <td>-0.046446</td>\n",
       "      <td>-0.067097</td>\n",
       "      <td>-0.012143</td>\n",
       "      <td>0.007114</td>\n",
       "      <td>-0.042614</td>\n",
       "      <td>0.047364</td>\n",
       "      <td>-0.011248</td>\n",
       "      <td>-0.026694</td>\n",
       "      <td>0.017312</td>\n",
       "      <td>-0.017312</td>\n",
       "    </tr>\n",
       "    <tr>\n",
       "      <th>Dependent_count</th>\n",
       "      <td>0.018991</td>\n",
       "      <td>-0.122254</td>\n",
       "      <td>1.000000</td>\n",
       "      <td>0.000472</td>\n",
       "      <td>0.066278</td>\n",
       "      <td>0.030469</td>\n",
       "      <td>-0.103062</td>\n",
       "      <td>-0.039076</td>\n",
       "      <td>-0.010768</td>\n",
       "      <td>-0.040505</td>\n",
       "      <td>...</td>\n",
       "      <td>0.025046</td>\n",
       "      <td>0.049912</td>\n",
       "      <td>0.011087</td>\n",
       "      <td>-0.037135</td>\n",
       "      <td>0.006697</td>\n",
       "      <td>0.014385</td>\n",
       "      <td>-0.040707</td>\n",
       "      <td>0.041743</td>\n",
       "      <td>-0.004563</td>\n",
       "      <td>0.004563</td>\n",
       "    </tr>\n",
       "    <tr>\n",
       "      <th>Education_Level</th>\n",
       "      <td>0.008796</td>\n",
       "      <td>-0.002369</td>\n",
       "      <td>0.000472</td>\n",
       "      <td>1.000000</td>\n",
       "      <td>-0.011677</td>\n",
       "      <td>0.014989</td>\n",
       "      <td>0.006613</td>\n",
       "      <td>0.000766</td>\n",
       "      <td>0.005761</td>\n",
       "      <td>-0.006280</td>\n",
       "      <td>...</td>\n",
       "      <td>-0.007460</td>\n",
       "      <td>-0.004307</td>\n",
       "      <td>-0.016692</td>\n",
       "      <td>-0.001849</td>\n",
       "      <td>0.005493</td>\n",
       "      <td>0.014051</td>\n",
       "      <td>-0.015067</td>\n",
       "      <td>-0.004186</td>\n",
       "      <td>0.005087</td>\n",
       "      <td>-0.005087</td>\n",
       "    </tr>\n",
       "    <tr>\n",
       "      <th>Income_Category</th>\n",
       "      <td>-0.013577</td>\n",
       "      <td>0.023508</td>\n",
       "      <td>0.066278</td>\n",
       "      <td>-0.011677</td>\n",
       "      <td>1.000000</td>\n",
       "      <td>0.077326</td>\n",
       "      <td>0.022122</td>\n",
       "      <td>-0.003202</td>\n",
       "      <td>-0.016310</td>\n",
       "      <td>0.023113</td>\n",
       "      <td>...</td>\n",
       "      <td>0.019651</td>\n",
       "      <td>-0.054569</td>\n",
       "      <td>-0.012657</td>\n",
       "      <td>-0.246476</td>\n",
       "      <td>-0.008734</td>\n",
       "      <td>0.023808</td>\n",
       "      <td>-0.024715</td>\n",
       "      <td>0.009417</td>\n",
       "      <td>-0.786608</td>\n",
       "      <td>0.786608</td>\n",
       "    </tr>\n",
       "    <tr>\n",
       "      <th>Card_Category</th>\n",
       "      <td>0.002354</td>\n",
       "      <td>-0.018235</td>\n",
       "      <td>0.030469</td>\n",
       "      <td>0.014989</td>\n",
       "      <td>0.077326</td>\n",
       "      <td>1.000000</td>\n",
       "      <td>-0.012535</td>\n",
       "      <td>-0.094077</td>\n",
       "      <td>-0.014629</td>\n",
       "      <td>-0.000442</td>\n",
       "      <td>...</td>\n",
       "      <td>0.196003</td>\n",
       "      <td>0.134275</td>\n",
       "      <td>-0.007261</td>\n",
       "      <td>-0.198711</td>\n",
       "      <td>-0.004028</td>\n",
       "      <td>-0.049254</td>\n",
       "      <td>0.040783</td>\n",
       "      <td>0.021881</td>\n",
       "      <td>-0.080093</td>\n",
       "      <td>0.080093</td>\n",
       "    </tr>\n",
       "    <tr>\n",
       "      <th>Months_on_book</th>\n",
       "      <td>0.013687</td>\n",
       "      <td>0.788912</td>\n",
       "      <td>-0.103062</td>\n",
       "      <td>0.006613</td>\n",
       "      <td>0.022122</td>\n",
       "      <td>-0.012535</td>\n",
       "      <td>1.000000</td>\n",
       "      <td>-0.009203</td>\n",
       "      <td>0.074164</td>\n",
       "      <td>-0.010774</td>\n",
       "      <td>...</td>\n",
       "      <td>-0.038591</td>\n",
       "      <td>-0.049819</td>\n",
       "      <td>-0.014072</td>\n",
       "      <td>-0.007541</td>\n",
       "      <td>-0.027678</td>\n",
       "      <td>0.033194</td>\n",
       "      <td>-0.005065</td>\n",
       "      <td>-0.026145</td>\n",
       "      <td>0.006728</td>\n",
       "      <td>-0.006728</td>\n",
       "    </tr>\n",
       "    <tr>\n",
       "      <th>Total_Relationship_Count</th>\n",
       "      <td>-0.150005</td>\n",
       "      <td>-0.010931</td>\n",
       "      <td>-0.039076</td>\n",
       "      <td>0.000766</td>\n",
       "      <td>-0.003202</td>\n",
       "      <td>-0.094077</td>\n",
       "      <td>-0.009203</td>\n",
       "      <td>1.000000</td>\n",
       "      <td>-0.003675</td>\n",
       "      <td>0.055203</td>\n",
       "      <td>...</td>\n",
       "      <td>-0.347229</td>\n",
       "      <td>-0.241891</td>\n",
       "      <td>0.040831</td>\n",
       "      <td>0.067663</td>\n",
       "      <td>0.009276</td>\n",
       "      <td>0.017001</td>\n",
       "      <td>-0.017329</td>\n",
       "      <td>-0.009376</td>\n",
       "      <td>-0.003157</td>\n",
       "      <td>0.003157</td>\n",
       "    </tr>\n",
       "    <tr>\n",
       "      <th>Months_Inactive_12_mon</th>\n",
       "      <td>0.152449</td>\n",
       "      <td>0.054361</td>\n",
       "      <td>-0.010768</td>\n",
       "      <td>0.005761</td>\n",
       "      <td>-0.016310</td>\n",
       "      <td>-0.014629</td>\n",
       "      <td>0.074164</td>\n",
       "      <td>-0.003675</td>\n",
       "      <td>1.000000</td>\n",
       "      <td>0.029493</td>\n",
       "      <td>...</td>\n",
       "      <td>-0.036982</td>\n",
       "      <td>-0.042787</td>\n",
       "      <td>-0.038989</td>\n",
       "      <td>-0.007503</td>\n",
       "      <td>0.001796</td>\n",
       "      <td>-0.007065</td>\n",
       "      <td>0.008973</td>\n",
       "      <td>-0.005053</td>\n",
       "      <td>0.011163</td>\n",
       "      <td>-0.011163</td>\n",
       "    </tr>\n",
       "    <tr>\n",
       "      <th>Contacts_Count_12_mon</th>\n",
       "      <td>0.204491</td>\n",
       "      <td>-0.018452</td>\n",
       "      <td>-0.040505</td>\n",
       "      <td>-0.006280</td>\n",
       "      <td>0.023113</td>\n",
       "      <td>-0.000442</td>\n",
       "      <td>-0.010774</td>\n",
       "      <td>0.055203</td>\n",
       "      <td>0.029493</td>\n",
       "      <td>1.000000</td>\n",
       "      <td>...</td>\n",
       "      <td>-0.112774</td>\n",
       "      <td>-0.152213</td>\n",
       "      <td>-0.094997</td>\n",
       "      <td>-0.055471</td>\n",
       "      <td>-0.008389</td>\n",
       "      <td>0.001598</td>\n",
       "      <td>0.007997</td>\n",
       "      <td>-0.009562</td>\n",
       "      <td>-0.039987</td>\n",
       "      <td>0.039987</td>\n",
       "    </tr>\n",
       "    <tr>\n",
       "      <th>Credit_Limit</th>\n",
       "      <td>-0.023873</td>\n",
       "      <td>0.002476</td>\n",
       "      <td>0.068065</td>\n",
       "      <td>-0.002354</td>\n",
       "      <td>0.475972</td>\n",
       "      <td>0.492446</td>\n",
       "      <td>0.007507</td>\n",
       "      <td>-0.071386</td>\n",
       "      <td>-0.020394</td>\n",
       "      <td>0.020817</td>\n",
       "      <td>...</td>\n",
       "      <td>0.171730</td>\n",
       "      <td>0.075927</td>\n",
       "      <td>-0.002020</td>\n",
       "      <td>-0.482965</td>\n",
       "      <td>0.022578</td>\n",
       "      <td>-0.056713</td>\n",
       "      <td>0.032309</td>\n",
       "      <td>0.025291</td>\n",
       "      <td>-0.420806</td>\n",
       "      <td>0.420806</td>\n",
       "    </tr>\n",
       "    <tr>\n",
       "      <th>Total_Revolving_Bal</th>\n",
       "      <td>-0.263053</td>\n",
       "      <td>0.014780</td>\n",
       "      <td>-0.002688</td>\n",
       "      <td>-0.006800</td>\n",
       "      <td>0.034718</td>\n",
       "      <td>0.026304</td>\n",
       "      <td>0.008623</td>\n",
       "      <td>0.013726</td>\n",
       "      <td>-0.042210</td>\n",
       "      <td>-0.053913</td>\n",
       "      <td>...</td>\n",
       "      <td>0.064370</td>\n",
       "      <td>0.056060</td>\n",
       "      <td>0.089861</td>\n",
       "      <td>0.624022</td>\n",
       "      <td>-0.002368</td>\n",
       "      <td>0.039124</td>\n",
       "      <td>-0.037794</td>\n",
       "      <td>-0.001756</td>\n",
       "      <td>-0.029658</td>\n",
       "      <td>0.029658</td>\n",
       "    </tr>\n",
       "    <tr>\n",
       "      <th>Avg_Open_To_Buy</th>\n",
       "      <td>-0.000285</td>\n",
       "      <td>0.001151</td>\n",
       "      <td>0.068291</td>\n",
       "      <td>-0.001743</td>\n",
       "      <td>0.472760</td>\n",
       "      <td>0.489985</td>\n",
       "      <td>0.006732</td>\n",
       "      <td>-0.072601</td>\n",
       "      <td>-0.016605</td>\n",
       "      <td>0.025646</td>\n",
       "      <td>...</td>\n",
       "      <td>0.165923</td>\n",
       "      <td>0.070885</td>\n",
       "      <td>-0.010076</td>\n",
       "      <td>-0.538808</td>\n",
       "      <td>0.022786</td>\n",
       "      <td>-0.060209</td>\n",
       "      <td>0.035691</td>\n",
       "      <td>0.025443</td>\n",
       "      <td>-0.418059</td>\n",
       "      <td>0.418059</td>\n",
       "    </tr>\n",
       "    <tr>\n",
       "      <th>Total_Amt_Chng_Q4_Q1</th>\n",
       "      <td>-0.131063</td>\n",
       "      <td>-0.062042</td>\n",
       "      <td>-0.035439</td>\n",
       "      <td>-0.010040</td>\n",
       "      <td>0.011352</td>\n",
       "      <td>0.007385</td>\n",
       "      <td>-0.048959</td>\n",
       "      <td>0.050119</td>\n",
       "      <td>-0.032247</td>\n",
       "      <td>-0.024445</td>\n",
       "      <td>...</td>\n",
       "      <td>0.039678</td>\n",
       "      <td>0.005469</td>\n",
       "      <td>0.384189</td>\n",
       "      <td>0.035235</td>\n",
       "      <td>-0.005613</td>\n",
       "      <td>0.052388</td>\n",
       "      <td>-0.043323</td>\n",
       "      <td>-0.013484</td>\n",
       "      <td>-0.026712</td>\n",
       "      <td>0.026712</td>\n",
       "    </tr>\n",
       "    <tr>\n",
       "      <th>Total_Trans_Amt</th>\n",
       "      <td>-0.168598</td>\n",
       "      <td>-0.046446</td>\n",
       "      <td>0.025046</td>\n",
       "      <td>-0.007460</td>\n",
       "      <td>0.019651</td>\n",
       "      <td>0.196003</td>\n",
       "      <td>-0.038591</td>\n",
       "      <td>-0.347229</td>\n",
       "      <td>-0.036982</td>\n",
       "      <td>-0.112774</td>\n",
       "      <td>...</td>\n",
       "      <td>1.000000</td>\n",
       "      <td>0.807192</td>\n",
       "      <td>0.085581</td>\n",
       "      <td>-0.083034</td>\n",
       "      <td>0.010392</td>\n",
       "      <td>-0.063030</td>\n",
       "      <td>0.044772</td>\n",
       "      <td>0.026283</td>\n",
       "      <td>-0.024890</td>\n",
       "      <td>0.024890</td>\n",
       "    </tr>\n",
       "    <tr>\n",
       "      <th>Total_Trans_Ct</th>\n",
       "      <td>-0.371403</td>\n",
       "      <td>-0.067097</td>\n",
       "      <td>0.049912</td>\n",
       "      <td>-0.004307</td>\n",
       "      <td>-0.054569</td>\n",
       "      <td>0.134275</td>\n",
       "      <td>-0.049819</td>\n",
       "      <td>-0.241891</td>\n",
       "      <td>-0.042787</td>\n",
       "      <td>-0.152213</td>\n",
       "      <td>...</td>\n",
       "      <td>0.807192</td>\n",
       "      <td>1.000000</td>\n",
       "      <td>0.112324</td>\n",
       "      <td>0.002838</td>\n",
       "      <td>0.024863</td>\n",
       "      <td>-0.123911</td>\n",
       "      <td>0.098586</td>\n",
       "      <td>0.027551</td>\n",
       "      <td>0.067454</td>\n",
       "      <td>-0.067454</td>\n",
       "    </tr>\n",
       "    <tr>\n",
       "      <th>Total_Ct_Chng_Q4_Q1</th>\n",
       "      <td>-0.290054</td>\n",
       "      <td>-0.012143</td>\n",
       "      <td>0.011087</td>\n",
       "      <td>-0.016692</td>\n",
       "      <td>-0.012657</td>\n",
       "      <td>-0.007261</td>\n",
       "      <td>-0.014072</td>\n",
       "      <td>0.040831</td>\n",
       "      <td>-0.038989</td>\n",
       "      <td>-0.094997</td>\n",
       "      <td>...</td>\n",
       "      <td>0.085581</td>\n",
       "      <td>0.112324</td>\n",
       "      <td>1.000000</td>\n",
       "      <td>0.074143</td>\n",
       "      <td>-0.011503</td>\n",
       "      <td>0.013639</td>\n",
       "      <td>-0.009774</td>\n",
       "      <td>0.003720</td>\n",
       "      <td>0.005800</td>\n",
       "      <td>-0.005800</td>\n",
       "    </tr>\n",
       "    <tr>\n",
       "      <th>Avg_Utilization_Ratio</th>\n",
       "      <td>-0.178410</td>\n",
       "      <td>0.007114</td>\n",
       "      <td>-0.037135</td>\n",
       "      <td>-0.001849</td>\n",
       "      <td>-0.246476</td>\n",
       "      <td>-0.198711</td>\n",
       "      <td>-0.007541</td>\n",
       "      <td>0.067663</td>\n",
       "      <td>-0.007503</td>\n",
       "      <td>-0.055471</td>\n",
       "      <td>...</td>\n",
       "      <td>-0.083034</td>\n",
       "      <td>0.002838</td>\n",
       "      <td>0.074143</td>\n",
       "      <td>1.000000</td>\n",
       "      <td>-0.018385</td>\n",
       "      <td>0.049684</td>\n",
       "      <td>-0.030493</td>\n",
       "      <td>-0.019473</td>\n",
       "      <td>0.257851</td>\n",
       "      <td>-0.257851</td>\n",
       "    </tr>\n",
       "    <tr>\n",
       "      <th>Marital_Status_Divorced</th>\n",
       "      <td>0.000850</td>\n",
       "      <td>-0.042614</td>\n",
       "      <td>0.006697</td>\n",
       "      <td>0.005493</td>\n",
       "      <td>-0.008734</td>\n",
       "      <td>-0.004028</td>\n",
       "      <td>-0.027678</td>\n",
       "      <td>0.009276</td>\n",
       "      <td>0.001796</td>\n",
       "      <td>-0.008389</td>\n",
       "      <td>...</td>\n",
       "      <td>0.010392</td>\n",
       "      <td>0.024863</td>\n",
       "      <td>-0.011503</td>\n",
       "      <td>-0.018385</td>\n",
       "      <td>1.000000</td>\n",
       "      <td>-0.262132</td>\n",
       "      <td>-0.225502</td>\n",
       "      <td>-0.079810</td>\n",
       "      <td>0.004726</td>\n",
       "      <td>-0.004726</td>\n",
       "    </tr>\n",
       "    <tr>\n",
       "      <th>Marital_Status_Married</th>\n",
       "      <td>-0.023735</td>\n",
       "      <td>0.047364</td>\n",
       "      <td>0.014385</td>\n",
       "      <td>0.014051</td>\n",
       "      <td>0.023808</td>\n",
       "      <td>-0.049254</td>\n",
       "      <td>0.033194</td>\n",
       "      <td>0.017001</td>\n",
       "      <td>-0.007065</td>\n",
       "      <td>0.001598</td>\n",
       "      <td>...</td>\n",
       "      <td>-0.063030</td>\n",
       "      <td>-0.123911</td>\n",
       "      <td>0.013639</td>\n",
       "      <td>0.049684</td>\n",
       "      <td>-0.262132</td>\n",
       "      <td>1.000000</td>\n",
       "      <td>-0.741185</td>\n",
       "      <td>-0.262321</td>\n",
       "      <td>-0.011427</td>\n",
       "      <td>0.011427</td>\n",
       "    </tr>\n",
       "    <tr>\n",
       "      <th>Marital_Status_Single</th>\n",
       "      <td>0.019037</td>\n",
       "      <td>-0.011248</td>\n",
       "      <td>-0.040707</td>\n",
       "      <td>-0.015067</td>\n",
       "      <td>-0.024715</td>\n",
       "      <td>0.040783</td>\n",
       "      <td>-0.005065</td>\n",
       "      <td>-0.017329</td>\n",
       "      <td>0.008973</td>\n",
       "      <td>0.007997</td>\n",
       "      <td>...</td>\n",
       "      <td>0.044772</td>\n",
       "      <td>0.098586</td>\n",
       "      <td>-0.009774</td>\n",
       "      <td>-0.030493</td>\n",
       "      <td>-0.225502</td>\n",
       "      <td>-0.741185</td>\n",
       "      <td>1.000000</td>\n",
       "      <td>-0.225665</td>\n",
       "      <td>0.015756</td>\n",
       "      <td>-0.015756</td>\n",
       "    </tr>\n",
       "    <tr>\n",
       "      <th>Marital_Status_Unknown</th>\n",
       "      <td>0.008904</td>\n",
       "      <td>-0.026694</td>\n",
       "      <td>0.041743</td>\n",
       "      <td>-0.004186</td>\n",
       "      <td>0.009417</td>\n",
       "      <td>0.021881</td>\n",
       "      <td>-0.026145</td>\n",
       "      <td>-0.009376</td>\n",
       "      <td>-0.005053</td>\n",
       "      <td>-0.009562</td>\n",
       "      <td>...</td>\n",
       "      <td>0.026283</td>\n",
       "      <td>0.027551</td>\n",
       "      <td>0.003720</td>\n",
       "      <td>-0.019473</td>\n",
       "      <td>-0.079810</td>\n",
       "      <td>-0.262321</td>\n",
       "      <td>-0.225665</td>\n",
       "      <td>1.000000</td>\n",
       "      <td>-0.012307</td>\n",
       "      <td>0.012307</td>\n",
       "    </tr>\n",
       "    <tr>\n",
       "      <th>Gender_F</th>\n",
       "      <td>0.037272</td>\n",
       "      <td>0.017312</td>\n",
       "      <td>-0.004563</td>\n",
       "      <td>0.005087</td>\n",
       "      <td>-0.786608</td>\n",
       "      <td>-0.080093</td>\n",
       "      <td>0.006728</td>\n",
       "      <td>-0.003157</td>\n",
       "      <td>0.011163</td>\n",
       "      <td>-0.039987</td>\n",
       "      <td>...</td>\n",
       "      <td>-0.024890</td>\n",
       "      <td>0.067454</td>\n",
       "      <td>0.005800</td>\n",
       "      <td>0.257851</td>\n",
       "      <td>0.004726</td>\n",
       "      <td>-0.011427</td>\n",
       "      <td>0.015756</td>\n",
       "      <td>-0.012307</td>\n",
       "      <td>1.000000</td>\n",
       "      <td>-1.000000</td>\n",
       "    </tr>\n",
       "    <tr>\n",
       "      <th>Gender_M</th>\n",
       "      <td>-0.037272</td>\n",
       "      <td>-0.017312</td>\n",
       "      <td>0.004563</td>\n",
       "      <td>-0.005087</td>\n",
       "      <td>0.786608</td>\n",
       "      <td>0.080093</td>\n",
       "      <td>-0.006728</td>\n",
       "      <td>0.003157</td>\n",
       "      <td>-0.011163</td>\n",
       "      <td>0.039987</td>\n",
       "      <td>...</td>\n",
       "      <td>0.024890</td>\n",
       "      <td>-0.067454</td>\n",
       "      <td>-0.005800</td>\n",
       "      <td>-0.257851</td>\n",
       "      <td>-0.004726</td>\n",
       "      <td>0.011427</td>\n",
       "      <td>-0.015756</td>\n",
       "      <td>0.012307</td>\n",
       "      <td>-1.000000</td>\n",
       "      <td>1.000000</td>\n",
       "    </tr>\n",
       "  </tbody>\n",
       "</table>\n",
       "<p>24 rows × 24 columns</p>\n",
       "</div>"
      ],
      "text/plain": [
       "                          Attrition_Flag  Customer_Age  Dependent_count  \\\n",
       "Attrition_Flag                  1.000000      0.018203         0.018991   \n",
       "Customer_Age                    0.018203      1.000000        -0.122254   \n",
       "Dependent_count                 0.018991     -0.122254         1.000000   \n",
       "Education_Level                 0.008796     -0.002369         0.000472   \n",
       "Income_Category                -0.013577      0.023508         0.066278   \n",
       "Card_Category                   0.002354     -0.018235         0.030469   \n",
       "Months_on_book                  0.013687      0.788912        -0.103062   \n",
       "Total_Relationship_Count       -0.150005     -0.010931        -0.039076   \n",
       "Months_Inactive_12_mon          0.152449      0.054361        -0.010768   \n",
       "Contacts_Count_12_mon           0.204491     -0.018452        -0.040505   \n",
       "Credit_Limit                   -0.023873      0.002476         0.068065   \n",
       "Total_Revolving_Bal            -0.263053      0.014780        -0.002688   \n",
       "Avg_Open_To_Buy                -0.000285      0.001151         0.068291   \n",
       "Total_Amt_Chng_Q4_Q1           -0.131063     -0.062042        -0.035439   \n",
       "Total_Trans_Amt                -0.168598     -0.046446         0.025046   \n",
       "Total_Trans_Ct                 -0.371403     -0.067097         0.049912   \n",
       "Total_Ct_Chng_Q4_Q1            -0.290054     -0.012143         0.011087   \n",
       "Avg_Utilization_Ratio          -0.178410      0.007114        -0.037135   \n",
       "Marital_Status_Divorced         0.000850     -0.042614         0.006697   \n",
       "Marital_Status_Married         -0.023735      0.047364         0.014385   \n",
       "Marital_Status_Single           0.019037     -0.011248        -0.040707   \n",
       "Marital_Status_Unknown          0.008904     -0.026694         0.041743   \n",
       "Gender_F                        0.037272      0.017312        -0.004563   \n",
       "Gender_M                       -0.037272     -0.017312         0.004563   \n",
       "\n",
       "                          Education_Level  Income_Category  Card_Category  \\\n",
       "Attrition_Flag                   0.008796        -0.013577       0.002354   \n",
       "Customer_Age                    -0.002369         0.023508      -0.018235   \n",
       "Dependent_count                  0.000472         0.066278       0.030469   \n",
       "Education_Level                  1.000000        -0.011677       0.014989   \n",
       "Income_Category                 -0.011677         1.000000       0.077326   \n",
       "Card_Category                    0.014989         0.077326       1.000000   \n",
       "Months_on_book                   0.006613         0.022122      -0.012535   \n",
       "Total_Relationship_Count         0.000766        -0.003202      -0.094077   \n",
       "Months_Inactive_12_mon           0.005761        -0.016310      -0.014629   \n",
       "Contacts_Count_12_mon           -0.006280         0.023113      -0.000442   \n",
       "Credit_Limit                    -0.002354         0.475972       0.492446   \n",
       "Total_Revolving_Bal             -0.006800         0.034718       0.026304   \n",
       "Avg_Open_To_Buy                 -0.001743         0.472760       0.489985   \n",
       "Total_Amt_Chng_Q4_Q1            -0.010040         0.011352       0.007385   \n",
       "Total_Trans_Amt                 -0.007460         0.019651       0.196003   \n",
       "Total_Trans_Ct                  -0.004307        -0.054569       0.134275   \n",
       "Total_Ct_Chng_Q4_Q1             -0.016692        -0.012657      -0.007261   \n",
       "Avg_Utilization_Ratio           -0.001849        -0.246476      -0.198711   \n",
       "Marital_Status_Divorced          0.005493        -0.008734      -0.004028   \n",
       "Marital_Status_Married           0.014051         0.023808      -0.049254   \n",
       "Marital_Status_Single           -0.015067        -0.024715       0.040783   \n",
       "Marital_Status_Unknown          -0.004186         0.009417       0.021881   \n",
       "Gender_F                         0.005087        -0.786608      -0.080093   \n",
       "Gender_M                        -0.005087         0.786608       0.080093   \n",
       "\n",
       "                          Months_on_book  Total_Relationship_Count  \\\n",
       "Attrition_Flag                  0.013687                 -0.150005   \n",
       "Customer_Age                    0.788912                 -0.010931   \n",
       "Dependent_count                -0.103062                 -0.039076   \n",
       "Education_Level                 0.006613                  0.000766   \n",
       "Income_Category                 0.022122                 -0.003202   \n",
       "Card_Category                  -0.012535                 -0.094077   \n",
       "Months_on_book                  1.000000                 -0.009203   \n",
       "Total_Relationship_Count       -0.009203                  1.000000   \n",
       "Months_Inactive_12_mon          0.074164                 -0.003675   \n",
       "Contacts_Count_12_mon          -0.010774                  0.055203   \n",
       "Credit_Limit                    0.007507                 -0.071386   \n",
       "Total_Revolving_Bal             0.008623                  0.013726   \n",
       "Avg_Open_To_Buy                 0.006732                 -0.072601   \n",
       "Total_Amt_Chng_Q4_Q1           -0.048959                  0.050119   \n",
       "Total_Trans_Amt                -0.038591                 -0.347229   \n",
       "Total_Trans_Ct                 -0.049819                 -0.241891   \n",
       "Total_Ct_Chng_Q4_Q1            -0.014072                  0.040831   \n",
       "Avg_Utilization_Ratio          -0.007541                  0.067663   \n",
       "Marital_Status_Divorced        -0.027678                  0.009276   \n",
       "Marital_Status_Married          0.033194                  0.017001   \n",
       "Marital_Status_Single          -0.005065                 -0.017329   \n",
       "Marital_Status_Unknown         -0.026145                 -0.009376   \n",
       "Gender_F                        0.006728                 -0.003157   \n",
       "Gender_M                       -0.006728                  0.003157   \n",
       "\n",
       "                          Months_Inactive_12_mon  Contacts_Count_12_mon  ...  \\\n",
       "Attrition_Flag                          0.152449               0.204491  ...   \n",
       "Customer_Age                            0.054361              -0.018452  ...   \n",
       "Dependent_count                        -0.010768              -0.040505  ...   \n",
       "Education_Level                         0.005761              -0.006280  ...   \n",
       "Income_Category                        -0.016310               0.023113  ...   \n",
       "Card_Category                          -0.014629              -0.000442  ...   \n",
       "Months_on_book                          0.074164              -0.010774  ...   \n",
       "Total_Relationship_Count               -0.003675               0.055203  ...   \n",
       "Months_Inactive_12_mon                  1.000000               0.029493  ...   \n",
       "Contacts_Count_12_mon                   0.029493               1.000000  ...   \n",
       "Credit_Limit                           -0.020394               0.020817  ...   \n",
       "Total_Revolving_Bal                    -0.042210              -0.053913  ...   \n",
       "Avg_Open_To_Buy                        -0.016605               0.025646  ...   \n",
       "Total_Amt_Chng_Q4_Q1                   -0.032247              -0.024445  ...   \n",
       "Total_Trans_Amt                        -0.036982              -0.112774  ...   \n",
       "Total_Trans_Ct                         -0.042787              -0.152213  ...   \n",
       "Total_Ct_Chng_Q4_Q1                    -0.038989              -0.094997  ...   \n",
       "Avg_Utilization_Ratio                  -0.007503              -0.055471  ...   \n",
       "Marital_Status_Divorced                 0.001796              -0.008389  ...   \n",
       "Marital_Status_Married                 -0.007065               0.001598  ...   \n",
       "Marital_Status_Single                   0.008973               0.007997  ...   \n",
       "Marital_Status_Unknown                 -0.005053              -0.009562  ...   \n",
       "Gender_F                                0.011163              -0.039987  ...   \n",
       "Gender_M                               -0.011163               0.039987  ...   \n",
       "\n",
       "                          Total_Trans_Amt  Total_Trans_Ct  \\\n",
       "Attrition_Flag                  -0.168598       -0.371403   \n",
       "Customer_Age                    -0.046446       -0.067097   \n",
       "Dependent_count                  0.025046        0.049912   \n",
       "Education_Level                 -0.007460       -0.004307   \n",
       "Income_Category                  0.019651       -0.054569   \n",
       "Card_Category                    0.196003        0.134275   \n",
       "Months_on_book                  -0.038591       -0.049819   \n",
       "Total_Relationship_Count        -0.347229       -0.241891   \n",
       "Months_Inactive_12_mon          -0.036982       -0.042787   \n",
       "Contacts_Count_12_mon           -0.112774       -0.152213   \n",
       "Credit_Limit                     0.171730        0.075927   \n",
       "Total_Revolving_Bal              0.064370        0.056060   \n",
       "Avg_Open_To_Buy                  0.165923        0.070885   \n",
       "Total_Amt_Chng_Q4_Q1             0.039678        0.005469   \n",
       "Total_Trans_Amt                  1.000000        0.807192   \n",
       "Total_Trans_Ct                   0.807192        1.000000   \n",
       "Total_Ct_Chng_Q4_Q1              0.085581        0.112324   \n",
       "Avg_Utilization_Ratio           -0.083034        0.002838   \n",
       "Marital_Status_Divorced          0.010392        0.024863   \n",
       "Marital_Status_Married          -0.063030       -0.123911   \n",
       "Marital_Status_Single            0.044772        0.098586   \n",
       "Marital_Status_Unknown           0.026283        0.027551   \n",
       "Gender_F                        -0.024890        0.067454   \n",
       "Gender_M                         0.024890       -0.067454   \n",
       "\n",
       "                          Total_Ct_Chng_Q4_Q1  Avg_Utilization_Ratio  \\\n",
       "Attrition_Flag                      -0.290054              -0.178410   \n",
       "Customer_Age                        -0.012143               0.007114   \n",
       "Dependent_count                      0.011087              -0.037135   \n",
       "Education_Level                     -0.016692              -0.001849   \n",
       "Income_Category                     -0.012657              -0.246476   \n",
       "Card_Category                       -0.007261              -0.198711   \n",
       "Months_on_book                      -0.014072              -0.007541   \n",
       "Total_Relationship_Count             0.040831               0.067663   \n",
       "Months_Inactive_12_mon              -0.038989              -0.007503   \n",
       "Contacts_Count_12_mon               -0.094997              -0.055471   \n",
       "Credit_Limit                        -0.002020              -0.482965   \n",
       "Total_Revolving_Bal                  0.089861               0.624022   \n",
       "Avg_Open_To_Buy                     -0.010076              -0.538808   \n",
       "Total_Amt_Chng_Q4_Q1                 0.384189               0.035235   \n",
       "Total_Trans_Amt                      0.085581              -0.083034   \n",
       "Total_Trans_Ct                       0.112324               0.002838   \n",
       "Total_Ct_Chng_Q4_Q1                  1.000000               0.074143   \n",
       "Avg_Utilization_Ratio                0.074143               1.000000   \n",
       "Marital_Status_Divorced             -0.011503              -0.018385   \n",
       "Marital_Status_Married               0.013639               0.049684   \n",
       "Marital_Status_Single               -0.009774              -0.030493   \n",
       "Marital_Status_Unknown               0.003720              -0.019473   \n",
       "Gender_F                             0.005800               0.257851   \n",
       "Gender_M                            -0.005800              -0.257851   \n",
       "\n",
       "                          Marital_Status_Divorced  Marital_Status_Married  \\\n",
       "Attrition_Flag                           0.000850               -0.023735   \n",
       "Customer_Age                            -0.042614                0.047364   \n",
       "Dependent_count                          0.006697                0.014385   \n",
       "Education_Level                          0.005493                0.014051   \n",
       "Income_Category                         -0.008734                0.023808   \n",
       "Card_Category                           -0.004028               -0.049254   \n",
       "Months_on_book                          -0.027678                0.033194   \n",
       "Total_Relationship_Count                 0.009276                0.017001   \n",
       "Months_Inactive_12_mon                   0.001796               -0.007065   \n",
       "Contacts_Count_12_mon                   -0.008389                0.001598   \n",
       "Credit_Limit                             0.022578               -0.056713   \n",
       "Total_Revolving_Bal                     -0.002368                0.039124   \n",
       "Avg_Open_To_Buy                          0.022786               -0.060209   \n",
       "Total_Amt_Chng_Q4_Q1                    -0.005613                0.052388   \n",
       "Total_Trans_Amt                          0.010392               -0.063030   \n",
       "Total_Trans_Ct                           0.024863               -0.123911   \n",
       "Total_Ct_Chng_Q4_Q1                     -0.011503                0.013639   \n",
       "Avg_Utilization_Ratio                   -0.018385                0.049684   \n",
       "Marital_Status_Divorced                  1.000000               -0.262132   \n",
       "Marital_Status_Married                  -0.262132                1.000000   \n",
       "Marital_Status_Single                   -0.225502               -0.741185   \n",
       "Marital_Status_Unknown                  -0.079810               -0.262321   \n",
       "Gender_F                                 0.004726               -0.011427   \n",
       "Gender_M                                -0.004726                0.011427   \n",
       "\n",
       "                          Marital_Status_Single  Marital_Status_Unknown  \\\n",
       "Attrition_Flag                         0.019037                0.008904   \n",
       "Customer_Age                          -0.011248               -0.026694   \n",
       "Dependent_count                       -0.040707                0.041743   \n",
       "Education_Level                       -0.015067               -0.004186   \n",
       "Income_Category                       -0.024715                0.009417   \n",
       "Card_Category                          0.040783                0.021881   \n",
       "Months_on_book                        -0.005065               -0.026145   \n",
       "Total_Relationship_Count              -0.017329               -0.009376   \n",
       "Months_Inactive_12_mon                 0.008973               -0.005053   \n",
       "Contacts_Count_12_mon                  0.007997               -0.009562   \n",
       "Credit_Limit                           0.032309                0.025291   \n",
       "Total_Revolving_Bal                   -0.037794               -0.001756   \n",
       "Avg_Open_To_Buy                        0.035691                0.025443   \n",
       "Total_Amt_Chng_Q4_Q1                  -0.043323               -0.013484   \n",
       "Total_Trans_Amt                        0.044772                0.026283   \n",
       "Total_Trans_Ct                         0.098586                0.027551   \n",
       "Total_Ct_Chng_Q4_Q1                   -0.009774                0.003720   \n",
       "Avg_Utilization_Ratio                 -0.030493               -0.019473   \n",
       "Marital_Status_Divorced               -0.225502               -0.079810   \n",
       "Marital_Status_Married                -0.741185               -0.262321   \n",
       "Marital_Status_Single                  1.000000               -0.225665   \n",
       "Marital_Status_Unknown                -0.225665                1.000000   \n",
       "Gender_F                               0.015756               -0.012307   \n",
       "Gender_M                              -0.015756                0.012307   \n",
       "\n",
       "                          Gender_F  Gender_M  \n",
       "Attrition_Flag            0.037272 -0.037272  \n",
       "Customer_Age              0.017312 -0.017312  \n",
       "Dependent_count          -0.004563  0.004563  \n",
       "Education_Level           0.005087 -0.005087  \n",
       "Income_Category          -0.786608  0.786608  \n",
       "Card_Category            -0.080093  0.080093  \n",
       "Months_on_book            0.006728 -0.006728  \n",
       "Total_Relationship_Count -0.003157  0.003157  \n",
       "Months_Inactive_12_mon    0.011163 -0.011163  \n",
       "Contacts_Count_12_mon    -0.039987  0.039987  \n",
       "Credit_Limit             -0.420806  0.420806  \n",
       "Total_Revolving_Bal      -0.029658  0.029658  \n",
       "Avg_Open_To_Buy          -0.418059  0.418059  \n",
       "Total_Amt_Chng_Q4_Q1     -0.026712  0.026712  \n",
       "Total_Trans_Amt          -0.024890  0.024890  \n",
       "Total_Trans_Ct            0.067454 -0.067454  \n",
       "Total_Ct_Chng_Q4_Q1       0.005800 -0.005800  \n",
       "Avg_Utilization_Ratio     0.257851 -0.257851  \n",
       "Marital_Status_Divorced   0.004726 -0.004726  \n",
       "Marital_Status_Married   -0.011427  0.011427  \n",
       "Marital_Status_Single     0.015756 -0.015756  \n",
       "Marital_Status_Unknown   -0.012307  0.012307  \n",
       "Gender_F                  1.000000 -1.000000  \n",
       "Gender_M                 -1.000000  1.000000  \n",
       "\n",
       "[24 rows x 24 columns]"
      ]
     },
     "execution_count": 25,
     "metadata": {},
     "output_type": "execute_result"
    }
   ],
   "source": [
    "#Correlation table\n",
    "credit_clean_df.corr()"
   ]
  },
  {
   "cell_type": "markdown",
   "metadata": {},
   "source": [
    "Variables that are highly correlated:\n",
    "1. **Months_on_book** + **Customer Age**: 0.788\n",
    "2. **Income_Category** + **Credit_Limit**: 0.476\n",
    "3. **Income_Category** + **Avg_Open_To_Buy**: 0.473\n",
    "4. **Card_Category** + **Credit_Limit**: 0.492\n",
    "5. **Card_Category** + **Avg_Open_To_Buy**: 0.489\n",
    "6. **Total_Trans_Amt** + **Total_Relationship_Count**: -0.347\n",
    "7. **Avg_Utilization_Ratio** + **Total_Revolving_Bal**: 0.624\n",
    "8. **Avg_Utilization_Ratio** + **Avg_Open_To_Buy**: -0.539\n",
    "9. **Total_Trans_Amt** + **Total_Trans_Ct**: 0.807"
   ]
  },
  {
   "cell_type": "markdown",
   "metadata": {},
   "source": [
    "One interesting thing to look at is evaluating which variables are most strongly correlated to the **Attrition_Flag** column. Based on the table above, **Total_Trans_Ct** (-0.371), **Total_Ct_Chng_Q4_Q1** (-0.29), and **Total_Revolving_Bal** (-0.263) are the three most strongly correlated variables. Looking into these further would be of interest."
   ]
  },
  {
   "cell_type": "code",
   "execution_count": 26,
   "metadata": {},
   "outputs": [
    {
     "data": {
      "text/plain": [
       "<seaborn.axisgrid.FacetGrid at 0x1f2232dedf0>"
      ]
     },
     "execution_count": 26,
     "metadata": {},
     "output_type": "execute_result"
    },
    {
     "data": {
      "image/png": "[encoded data removed]",
      "text/plain": [
       "<Figure size 360x360 with 1 Axes>"
      ]
     },
     "metadata": {
      "needs_background": "light"
     },
     "output_type": "display_data"
    }
   ],
   "source": [
    "#Catplot of Total_Trans_Amt vs. Attrition Flag\n",
    "sns.catplot(data=credit_df, x='Attrition_Flag', y='Total_Trans_Ct')"
   ]
  },
  {
   "cell_type": "markdown",
   "metadata": {},
   "source": [
    "Attrited customers appear to have a max total transaction count of around 90 whereas existing customers can peak at over 130. Attrited customers in general have a smaller total transaction count."
   ]
  },
  {
   "cell_type": "code",
   "execution_count": 27,
   "metadata": {},
   "outputs": [
    {
     "data": {
      "text/plain": [
       "<seaborn.axisgrid.FacetGrid at 0x1f246c89b50>"
      ]
     },
     "execution_count": 27,
     "metadata": {},
     "output_type": "execute_result"
    },
    {
     "data": {
      "image/png": "[encoded data removed]",
      "text/plain": [
       "<Figure size 360x360 with 1 Axes>"
      ]
     },
     "metadata": {
      "needs_background": "light"
     },
     "output_type": "display_data"
    }
   ],
   "source": [
    "#Catplot of Total_Ct_Chng_Q4_Q1 vs. Attrition Flag\n",
    "sns.catplot(data=credit_df, x='Attrition_Flag', y='Total_Ct_Chng_Q4_Q1')"
   ]
  },
  {
   "cell_type": "markdown",
   "metadata": {},
   "source": [
    "Considering the variable, **Total_Ct_Chng_Q4_Q1**, is the change in transaction count (Q4/Q1), we can interpret larger values as customers who increased their quarterly transactions throughout the year. There appears to be larger numbers present for existing customers, meaning that if customers continue to increase the number of transactions, it is less likely that they will exit. "
   ]
  },
  {
   "cell_type": "code",
   "execution_count": 28,
   "metadata": {},
   "outputs": [
    {
     "data": {
      "text/plain": [
       "<seaborn.axisgrid.FacetGrid at 0x1f246c9e880>"
      ]
     },
     "execution_count": 28,
     "metadata": {},
     "output_type": "execute_result"
    },
    {
     "data": {
      "image/png": "[encoded data removed]",
      "text/plain": [
       "<Figure size 360x360 with 1 Axes>"
      ]
     },
     "metadata": {
      "needs_background": "light"
     },
     "output_type": "display_data"
    }
   ],
   "source": [
    "#Catplot of Total_Revolving_Bal vs. Attrition Flag\n",
    "sns.catplot(data=credit_df, x='Attrition_Flag', y='Total_Revolving_Bal', kind='box')"
   ]
  },
  {
   "cell_type": "markdown",
   "metadata": {},
   "source": [
    "Existing customers have a higher average total revolving balance than attrited customers - it looks unlikely that a customer above a total revolving balance of $1,300 will exit. This indicates that customers with lower revolving balances to pay off are more likely to exit - they are keeping their obligations low and relatively more free to move on to a competitive opportunity."
   ]
  },
  {
   "cell_type": "markdown",
   "metadata": {},
   "source": [
    "It would also be interesting to see how demographic variables compare in terms of attrited vs. existing customers. "
   ]
  },
  {
   "cell_type": "code",
   "execution_count": 29,
   "metadata": {},
   "outputs": [
    {
     "data": {
      "text/plain": [
       "<AxesSubplot:xlabel='Card_Category'>"
      ]
     },
     "execution_count": 29,
     "metadata": {},
     "output_type": "execute_result"
    },
    {
     "data": {
      "image/png": "[encoded data removed]",
      "text/plain": [
       "<Figure size 432x288 with 1 Axes>"
      ]
     },
     "metadata": {
      "needs_background": "light"
     },
     "output_type": "display_data"
    }
   ],
   "source": [
    "#Compare percentage of attrited customers per card category\n",
    "(pd.crosstab(credit_df['Card_Category'],credit_df['Attrition_Flag'], \n",
    "             normalize='index')\n",
    "   .plot.bar(stacked=False)\n",
    ")"
   ]
  },
  {
   "cell_type": "markdown",
   "metadata": {},
   "source": [
    "The Silver card has the smallest percentage of customers exit, with Blue in a close second. It seems as though there are more issues with exiting customers the higher one climbs up the credit card tiers. There could be an issue with the fee structure of the higher tiers, or they simply could be more difficult to maintain than lower tiers. The customers in the higher tiers may have more income to spend, and can afford to shop around for the best high tier credit card on the market.\n",
    "\n",
    "How does **Income_Category** compare to **Card_Category** and **Credit_Limit**?"
   ]
  },
  {
   "cell_type": "code",
   "execution_count": 30,
   "metadata": {},
   "outputs": [
    {
     "name": "stderr",
     "output_type": "stream",
     "text": [
      "C:\\Users\\mschliesman\\Anaconda3\\envs\\learn-env\\lib\\site-packages\\seaborn\\_decorators.py:36: FutureWarning: Pass the following variables as keyword args: x, y. From version 0.12, the only valid positional argument will be `data`, and passing other arguments without an explicit keyword will result in an error or misinterpretation.\n",
      "  warnings.warn(\n"
     ]
    },
    {
     "data": {
      "text/plain": [
       "<AxesSubplot:xlabel='Income_Category', ylabel='Credit_Limit'>"
      ]
     },
     "execution_count": 30,
     "metadata": {},
     "output_type": "execute_result"
    },
    {
     "data": {
      "image/png": "[encoded data removed]",
      "text/plain": [
       "<Figure size 1440x720 with 1 Axes>"
      ]
     },
     "metadata": {
      "needs_background": "light"
     },
     "output_type": "display_data"
    }
   ],
   "source": [
    "plt.figure(figsize=(20,10))\n",
    "sns.barplot(credit_df['Income_Category'], credit_df['Credit_Limit'], hue=credit_df['Card_Category'])"
   ]
  },
  {
   "cell_type": "markdown",
   "metadata": {},
   "source": [
    "Platinum card holders do seem to have the highest relative credit limit in each of the respective income category groups. This further solidifies the point that higher-tier card holders have the financial ability to shop around and find the best deals."
   ]
  },
  {
   "cell_type": "markdown",
   "metadata": {},
   "source": [
    "What about **Education_Level**? Does education influence **Credit_Limit**, and how does that differ based on **Attrition_Flag**?"
   ]
  },
  {
   "cell_type": "code",
   "execution_count": 31,
   "metadata": {},
   "outputs": [
    {
     "name": "stderr",
     "output_type": "stream",
     "text": [
      "C:\\Users\\mschliesman\\Anaconda3\\envs\\learn-env\\lib\\site-packages\\seaborn\\_decorators.py:36: FutureWarning: Pass the following variables as keyword args: x, y. From version 0.12, the only valid positional argument will be `data`, and passing other arguments without an explicit keyword will result in an error or misinterpretation.\n",
      "  warnings.warn(\n"
     ]
    },
    {
     "data": {
      "text/plain": [
       "<AxesSubplot:xlabel='Education_Level', ylabel='Credit_Limit'>"
      ]
     },
     "execution_count": 31,
     "metadata": {},
     "output_type": "execute_result"
    },
    {
     "data": {
      "image/png": "[encoded data removed]",
      "text/plain": [
       "<Figure size 1440x360 with 1 Axes>"
      ]
     },
     "metadata": {
      "needs_background": "light"
     },
     "output_type": "display_data"
    }
   ],
   "source": [
    "#Compare credit limit by education level - then see how these differ between attrited and existing customers\n",
    "plt.figure(figsize=(20,5))\n",
    "sns.barplot(credit_df['Education_Level'], credit_df['Credit_Limit'], hue=credit_df['Attrition_Flag'])"
   ]
  },
  {
   "cell_type": "markdown",
   "metadata": {},
   "source": [
    "In most cases, attrited customers appear to have smaller credit limits compared to their existing customer counter part within each education level. It is interesting that attrited customers who have a Doctorate have the lowest credit limit of all groups on average. Overall, there doesn't seem to be a clear pattern between **Credit_Limit**, **Education_Level**, and a customer's **Attrition_Flag**."
   ]
  },
  {
   "cell_type": "markdown",
   "metadata": {},
   "source": [
    "**Card_Category** also has a notable correlation with **Total_Trans_Ct** - this is particularly interesting considering **Total_Trans_Ct** is the most correlated with **Attrition_Flag** (-0.37). How do these three variables compare? "
   ]
  },
  {
   "cell_type": "code",
   "execution_count": 32,
   "metadata": {},
   "outputs": [
    {
     "name": "stderr",
     "output_type": "stream",
     "text": [
      "C:\\Users\\mschliesman\\Anaconda3\\envs\\learn-env\\lib\\site-packages\\seaborn\\_decorators.py:36: FutureWarning: Pass the following variables as keyword args: x, y. From version 0.12, the only valid positional argument will be `data`, and passing other arguments without an explicit keyword will result in an error or misinterpretation.\n",
      "  warnings.warn(\n"
     ]
    },
    {
     "data": {
      "text/plain": [
       "<AxesSubplot:xlabel='Card_Category', ylabel='Total_Trans_Ct'>"
      ]
     },
     "execution_count": 32,
     "metadata": {},
     "output_type": "execute_result"
    },
    {
     "data": {
      "image/png": "[encoded data removed]",
      "text/plain": [
       "<Figure size 1440x360 with 1 Axes>"
      ]
     },
     "metadata": {
      "needs_background": "light"
     },
     "output_type": "display_data"
    }
   ],
   "source": [
    "plt.figure(figsize=(20,5))\n",
    "sns.barplot(credit_df['Card_Category'], credit_df['Total_Trans_Ct'], hue=credit_df['Attrition_Flag'])"
   ]
  },
  {
   "cell_type": "markdown",
   "metadata": {},
   "source": [
    "In every card category, attrited customers have fewer total transactions than existing customers. As the card category tier rises (Blue-> Silver -> Gold -> Platinum), the total transaction count increases for what appears to be every subgroup. It looks as though attrited customers have around 20 fewer transactions than existing customers in each card group. "
   ]
  },
  {
   "cell_type": "code",
   "execution_count": null,
   "metadata": {},
   "outputs": [],
   "source": []
  },
  {
   "cell_type": "code",
   "execution_count": null,
   "metadata": {},
   "outputs": [],
   "source": []
  },
  {
   "cell_type": "code",
   "execution_count": null,
   "metadata": {},
   "outputs": [],
   "source": []
  },
  {
   "cell_type": "code",
   "execution_count": null,
   "metadata": {},
   "outputs": [],
   "source": []
  },
  {
   "cell_type": "markdown",
   "metadata": {},
   "source": [
    "# Model Building"
   ]
  },
  {
   "cell_type": "markdown",
   "metadata": {},
   "source": [
    "The purpose of the model building stage is to create a highly function classification model that can take in the numerous pieces of customer data and classify whether the customer is likely to churn / cancel their credit card. There are multiple routes that could generate a production grade model that could signficantly help the bank to understand what makes a customer likely to leave - in turn this could impact future marketing strategies, as well as allow them to be proactive and attempt to find methods of mitigating this issue among certain groups. "
   ]
  },
  {
   "cell_type": "markdown",
   "metadata": {},
   "source": [
    "## Logistic Regression"
   ]
  },
  {
   "cell_type": "code",
   "execution_count": null,
   "metadata": {},
   "outputs": [],
   "source": []
  },
  {
   "cell_type": "code",
   "execution_count": null,
   "metadata": {},
   "outputs": [],
   "source": []
  },
  {
   "cell_type": "code",
   "execution_count": null,
   "metadata": {},
   "outputs": [],
   "source": []
  },
  {
   "cell_type": "code",
   "execution_count": null,
   "metadata": {},
   "outputs": [],
   "source": []
  },
  {
   "cell_type": "markdown",
   "metadata": {},
   "source": [
    "## Decision Tree"
   ]
  },
  {
   "cell_type": "code",
   "execution_count": null,
   "metadata": {},
   "outputs": [],
   "source": []
  },
  {
   "cell_type": "code",
   "execution_count": null,
   "metadata": {},
   "outputs": [],
   "source": []
  },
  {
   "cell_type": "code",
   "execution_count": null,
   "metadata": {},
   "outputs": [],
   "source": []
  },
  {
   "cell_type": "code",
   "execution_count": null,
   "metadata": {},
   "outputs": [],
   "source": []
  },
  {
   "cell_type": "markdown",
   "metadata": {},
   "source": [
    "## Random Forest"
   ]
  },
  {
   "cell_type": "code",
   "execution_count": null,
   "metadata": {},
   "outputs": [],
   "source": []
  },
  {
   "cell_type": "code",
   "execution_count": null,
   "metadata": {},
   "outputs": [],
   "source": []
  },
  {
   "cell_type": "code",
   "execution_count": null,
   "metadata": {},
   "outputs": [],
   "source": []
  },
  {
   "cell_type": "code",
   "execution_count": null,
   "metadata": {},
   "outputs": [],
   "source": []
  },
  {
   "cell_type": "markdown",
   "metadata": {},
   "source": [
    "## RF XGBoost"
   ]
  },
  {
   "cell_type": "markdown",
   "metadata": {},
   "source": [
    "importing the XGBoost library"
   ]
  },
  {
   "cell_type": "code",
   "execution_count": 33,
   "metadata": {},
   "outputs": [
    {
     "name": "stdout",
     "output_type": "stream",
     "text": [
      "Requirement already satisfied: xgboost in c:\\users\\mschliesman\\anaconda3\\envs\\learn-env\\lib\\site-packages (1.2.1)\n",
      "Requirement already satisfied: scipy in c:\\users\\mschliesman\\anaconda3\\envs\\learn-env\\lib\\site-packages (from xgboost) (1.5.0)\n",
      "Requirement already satisfied: numpy in c:\\users\\mschliesman\\anaconda3\\envs\\learn-env\\lib\\site-packages (from xgboost) (1.18.5)\n",
      "Note: you may need to restart the kernel to use updated packages.\n"
     ]
    }
   ],
   "source": [
    "pip install xgboost"
   ]
  },
  {
   "cell_type": "code",
   "execution_count": 34,
   "metadata": {},
   "outputs": [],
   "source": [
    "import xgboost as xgb\n",
    "from xgboost import plot_importance"
   ]
  },
  {
   "cell_type": "markdown",
   "metadata": {},
   "source": [
    "Checking that the data is still there"
   ]
  },
  {
   "cell_type": "code",
   "execution_count": 35,
   "metadata": {},
   "outputs": [
    {
     "data": {
      "text/html": [
       "<div>\n",
       "<style scoped>\n",
       "    .dataframe tbody tr th:only-of-type {\n",
       "        vertical-align: middle;\n",
       "    }\n",
       "\n",
       "    .dataframe tbody tr th {\n",
       "        vertical-align: top;\n",
       "    }\n",
       "\n",
       "    .dataframe thead th {\n",
       "        text-align: right;\n",
       "    }\n",
       "</style>\n",
       "<table border=\"1\" class=\"dataframe\">\n",
       "  <thead>\n",
       "    <tr style=\"text-align: right;\">\n",
       "      <th></th>\n",
       "      <th>Attrition_Flag</th>\n",
       "      <th>Customer_Age</th>\n",
       "      <th>Dependent_count</th>\n",
       "      <th>Education_Level</th>\n",
       "      <th>Income_Category</th>\n",
       "      <th>Card_Category</th>\n",
       "      <th>Months_on_book</th>\n",
       "      <th>Total_Relationship_Count</th>\n",
       "      <th>Months_Inactive_12_mon</th>\n",
       "      <th>Contacts_Count_12_mon</th>\n",
       "      <th>...</th>\n",
       "      <th>Total_Trans_Amt</th>\n",
       "      <th>Total_Trans_Ct</th>\n",
       "      <th>Total_Ct_Chng_Q4_Q1</th>\n",
       "      <th>Avg_Utilization_Ratio</th>\n",
       "      <th>Marital_Status_Divorced</th>\n",
       "      <th>Marital_Status_Married</th>\n",
       "      <th>Marital_Status_Single</th>\n",
       "      <th>Marital_Status_Unknown</th>\n",
       "      <th>Gender_F</th>\n",
       "      <th>Gender_M</th>\n",
       "    </tr>\n",
       "  </thead>\n",
       "  <tbody>\n",
       "    <tr>\n",
       "      <th>0</th>\n",
       "      <td>0</td>\n",
       "      <td>45</td>\n",
       "      <td>3</td>\n",
       "      <td>2</td>\n",
       "      <td>3</td>\n",
       "      <td>0</td>\n",
       "      <td>39</td>\n",
       "      <td>5</td>\n",
       "      <td>1</td>\n",
       "      <td>3</td>\n",
       "      <td>...</td>\n",
       "      <td>1144</td>\n",
       "      <td>42</td>\n",
       "      <td>1.625</td>\n",
       "      <td>0.061</td>\n",
       "      <td>0</td>\n",
       "      <td>1</td>\n",
       "      <td>0</td>\n",
       "      <td>0</td>\n",
       "      <td>0</td>\n",
       "      <td>1</td>\n",
       "    </tr>\n",
       "    <tr>\n",
       "      <th>1</th>\n",
       "      <td>0</td>\n",
       "      <td>49</td>\n",
       "      <td>5</td>\n",
       "      <td>4</td>\n",
       "      <td>1</td>\n",
       "      <td>0</td>\n",
       "      <td>44</td>\n",
       "      <td>6</td>\n",
       "      <td>1</td>\n",
       "      <td>2</td>\n",
       "      <td>...</td>\n",
       "      <td>1291</td>\n",
       "      <td>33</td>\n",
       "      <td>3.714</td>\n",
       "      <td>0.105</td>\n",
       "      <td>0</td>\n",
       "      <td>0</td>\n",
       "      <td>1</td>\n",
       "      <td>0</td>\n",
       "      <td>1</td>\n",
       "      <td>0</td>\n",
       "    </tr>\n",
       "    <tr>\n",
       "      <th>2</th>\n",
       "      <td>0</td>\n",
       "      <td>51</td>\n",
       "      <td>3</td>\n",
       "      <td>4</td>\n",
       "      <td>4</td>\n",
       "      <td>0</td>\n",
       "      <td>36</td>\n",
       "      <td>4</td>\n",
       "      <td>1</td>\n",
       "      <td>0</td>\n",
       "      <td>...</td>\n",
       "      <td>1887</td>\n",
       "      <td>20</td>\n",
       "      <td>2.333</td>\n",
       "      <td>0.000</td>\n",
       "      <td>0</td>\n",
       "      <td>1</td>\n",
       "      <td>0</td>\n",
       "      <td>0</td>\n",
       "      <td>0</td>\n",
       "      <td>1</td>\n",
       "    </tr>\n",
       "    <tr>\n",
       "      <th>3</th>\n",
       "      <td>0</td>\n",
       "      <td>40</td>\n",
       "      <td>4</td>\n",
       "      <td>2</td>\n",
       "      <td>1</td>\n",
       "      <td>0</td>\n",
       "      <td>34</td>\n",
       "      <td>3</td>\n",
       "      <td>4</td>\n",
       "      <td>1</td>\n",
       "      <td>...</td>\n",
       "      <td>1171</td>\n",
       "      <td>20</td>\n",
       "      <td>2.333</td>\n",
       "      <td>0.760</td>\n",
       "      <td>0</td>\n",
       "      <td>0</td>\n",
       "      <td>0</td>\n",
       "      <td>1</td>\n",
       "      <td>1</td>\n",
       "      <td>0</td>\n",
       "    </tr>\n",
       "    <tr>\n",
       "      <th>4</th>\n",
       "      <td>0</td>\n",
       "      <td>40</td>\n",
       "      <td>3</td>\n",
       "      <td>1</td>\n",
       "      <td>3</td>\n",
       "      <td>0</td>\n",
       "      <td>21</td>\n",
       "      <td>5</td>\n",
       "      <td>1</td>\n",
       "      <td>0</td>\n",
       "      <td>...</td>\n",
       "      <td>816</td>\n",
       "      <td>28</td>\n",
       "      <td>2.500</td>\n",
       "      <td>0.000</td>\n",
       "      <td>0</td>\n",
       "      <td>1</td>\n",
       "      <td>0</td>\n",
       "      <td>0</td>\n",
       "      <td>0</td>\n",
       "      <td>1</td>\n",
       "    </tr>\n",
       "  </tbody>\n",
       "</table>\n",
       "<p>5 rows × 24 columns</p>\n",
       "</div>"
      ],
      "text/plain": [
       "   Attrition_Flag  Customer_Age  Dependent_count  Education_Level  \\\n",
       "0               0            45                3                2   \n",
       "1               0            49                5                4   \n",
       "2               0            51                3                4   \n",
       "3               0            40                4                2   \n",
       "4               0            40                3                1   \n",
       "\n",
       "   Income_Category  Card_Category  Months_on_book  Total_Relationship_Count  \\\n",
       "0                3              0              39                         5   \n",
       "1                1              0              44                         6   \n",
       "2                4              0              36                         4   \n",
       "3                1              0              34                         3   \n",
       "4                3              0              21                         5   \n",
       "\n",
       "   Months_Inactive_12_mon  Contacts_Count_12_mon  ...  Total_Trans_Amt  \\\n",
       "0                       1                      3  ...             1144   \n",
       "1                       1                      2  ...             1291   \n",
       "2                       1                      0  ...             1887   \n",
       "3                       4                      1  ...             1171   \n",
       "4                       1                      0  ...              816   \n",
       "\n",
       "   Total_Trans_Ct  Total_Ct_Chng_Q4_Q1  Avg_Utilization_Ratio  \\\n",
       "0              42                1.625                  0.061   \n",
       "1              33                3.714                  0.105   \n",
       "2              20                2.333                  0.000   \n",
       "3              20                2.333                  0.760   \n",
       "4              28                2.500                  0.000   \n",
       "\n",
       "   Marital_Status_Divorced  Marital_Status_Married  Marital_Status_Single  \\\n",
       "0                        0                       1                      0   \n",
       "1                        0                       0                      1   \n",
       "2                        0                       1                      0   \n",
       "3                        0                       0                      0   \n",
       "4                        0                       1                      0   \n",
       "\n",
       "   Marital_Status_Unknown  Gender_F  Gender_M  \n",
       "0                       0         0         1  \n",
       "1                       0         1         0  \n",
       "2                       0         0         1  \n",
       "3                       1         1         0  \n",
       "4                       0         0         1  \n",
       "\n",
       "[5 rows x 24 columns]"
      ]
     },
     "execution_count": 35,
     "metadata": {},
     "output_type": "execute_result"
    }
   ],
   "source": [
    "credit_clean_df.head()"
   ]
  },
  {
   "cell_type": "markdown",
   "metadata": {},
   "source": [
    "Creating the variables to train the model with the key attribute \"Attrition_Flag\""
   ]
  },
  {
   "cell_type": "code",
   "execution_count": 36,
   "metadata": {},
   "outputs": [],
   "source": [
    "X = credit_clean_df.drop('Attrition_Flag', axis=1)\n",
    "y = credit_clean_df['Attrition_Flag']"
   ]
  },
  {
   "cell_type": "code",
   "execution_count": 37,
   "metadata": {},
   "outputs": [],
   "source": [
    "# Create an XGBoost Classifier\n",
    "model = xgb.XGBClassifier()\n"
   ]
  },
  {
   "cell_type": "markdown",
   "metadata": {},
   "source": [
    "Turning Categircal Columns into binary numbers so it can be tracked"
   ]
  },
  {
   "cell_type": "code",
   "execution_count": 38,
   "metadata": {},
   "outputs": [
    {
     "name": "stdout",
     "output_type": "stream",
     "text": [
      "Index(['Customer_Age', 'Dependent_count', 'Education_Level', 'Income_Category',\n",
      "       'Card_Category', 'Months_on_book', 'Total_Relationship_Count',\n",
      "       'Months_Inactive_12_mon', 'Contacts_Count_12_mon', 'Credit_Limit',\n",
      "       'Total_Revolving_Bal', 'Avg_Open_To_Buy', 'Total_Amt_Chng_Q4_Q1',\n",
      "       'Total_Trans_Amt', 'Total_Trans_Ct', 'Total_Ct_Chng_Q4_Q1',\n",
      "       'Avg_Utilization_Ratio', 'Marital_Status_Divorced',\n",
      "       'Marital_Status_Married', 'Marital_Status_Single',\n",
      "       'Marital_Status_Unknown', 'Gender_F', 'Gender_M'],\n",
      "      dtype='object')\n"
     ]
    }
   ],
   "source": [
    "print(X.columns)"
   ]
  },
  {
   "cell_type": "code",
   "execution_count": 39,
   "metadata": {},
   "outputs": [],
   "source": [
    "categorical_columns = ['Gender_F', 'Gender_M', 'Education_Level', 'Marital_Status_Divorced',\n",
    "       'Marital_Status_Married', 'Marital_Status_Single',\n",
    "       'Marital_Status_Unknown', 'Income_Category', 'Card_Category']\n",
    "\n",
    "# Perform one-hot encoding on the categorical columns\n",
    "X_encoded = pd.get_dummies(X, columns=categorical_columns)"
   ]
  },
  {
   "cell_type": "markdown",
   "metadata": {},
   "source": [
    "Fitting the model to the training data"
   ]
  },
  {
   "cell_type": "code",
   "execution_count": 40,
   "metadata": {},
   "outputs": [
    {
     "data": {
      "text/plain": [
       "XGBClassifier(base_score=0.5, booster='gbtree', colsample_bylevel=1,\n",
       "              colsample_bynode=1, colsample_bytree=1, gamma=0, gpu_id=-1,\n",
       "              importance_type='gain', interaction_constraints='',\n",
       "              learning_rate=0.300000012, max_delta_step=0, max_depth=6,\n",
       "              min_child_weight=1, missing=nan, monotone_constraints='()',\n",
       "              n_estimators=100, n_jobs=0, num_parallel_tree=1, random_state=0,\n",
       "              reg_alpha=0, reg_lambda=1, scale_pos_weight=1, subsample=1,\n",
       "              tree_method='exact', validate_parameters=1, verbosity=None)"
      ]
     },
     "execution_count": 40,
     "metadata": {},
     "output_type": "execute_result"
    }
   ],
   "source": [
    "# Create an XGBoost Classifier\n",
    "model = xgb.XGBClassifier()\n",
    "\n",
    "# Fit the model to the data\n",
    "model.fit(X_encoded, y)"
   ]
  },
  {
   "cell_type": "code",
   "execution_count": 41,
   "metadata": {},
   "outputs": [],
   "source": [
    "from sklearn.preprocessing import LabelEncoder\n",
    "\n",
    "# Perform label encoding on the categorical columns\n",
    "label_encoder = LabelEncoder()\n",
    "for col in categorical_columns:\n",
    "    X[col] = label_encoder.fit_transform(X[col])"
   ]
  },
  {
   "cell_type": "code",
   "execution_count": 42,
   "metadata": {},
   "outputs": [
    {
     "data": {
      "text/plain": [
       "XGBClassifier(base_score=0.5, booster='gbtree', colsample_bylevel=1,\n",
       "              colsample_bynode=1, colsample_bytree=1, gamma=0, gpu_id=-1,\n",
       "              importance_type='gain', interaction_constraints='',\n",
       "              learning_rate=0.300000012, max_delta_step=0, max_depth=6,\n",
       "              min_child_weight=1, missing=nan, monotone_constraints='()',\n",
       "              n_estimators=100, n_jobs=0, num_parallel_tree=1, random_state=0,\n",
       "              reg_alpha=0, reg_lambda=1, scale_pos_weight=1, subsample=1,\n",
       "              tree_method='exact', validate_parameters=1, verbosity=None)"
      ]
     },
     "execution_count": 42,
     "metadata": {},
     "output_type": "execute_result"
    }
   ],
   "source": [
    "# Fit the model to the data\n",
    "model.fit(X, y)"
   ]
  },
  {
   "cell_type": "markdown",
   "metadata": {},
   "source": [
    "Visualize the XGBoost model"
   ]
  },
  {
   "cell_type": "code",
   "execution_count": 43,
   "metadata": {},
   "outputs": [
    {
     "data": {
      "image/png": "[encoded data removed]",
      "text/plain": [
       "<Figure size 432x288 with 1 Axes>"
      ]
     },
     "metadata": {
      "needs_background": "light"
     },
     "output_type": "display_data"
    }
   ],
   "source": [
    "plot_importance(model)\n",
    "plt.show()"
   ]
  },
  {
   "cell_type": "code",
   "execution_count": 44,
   "metadata": {},
   "outputs": [
    {
     "data": {
      "text/plain": [
       "<Figure size 864x720 with 0 Axes>"
      ]
     },
     "metadata": {},
     "output_type": "display_data"
    },
    {
     "data": {
      "image/png": "[encoded data removed]",
      "text/plain": [
       "<Figure size 432x288 with 1 Axes>"
      ]
     },
     "metadata": {
      "needs_background": "light"
     },
     "output_type": "display_data"
    }
   ],
   "source": [
    "# Set the figure size\n",
    "plt.figure(figsize=(12, 10)) \n",
    "\n",
    "# Call plot_importance with the model\n",
    "plot_importance(model)\n",
    "\n",
    "plt.show()"
   ]
  },
  {
   "cell_type": "code",
   "execution_count": 45,
   "metadata": {},
   "outputs": [],
   "source": [
    "# Perform one-hot encoding on the categorical columns\n",
    "X_encoded = pd.get_dummies(X, columns=categorical_columns)"
   ]
  },
  {
   "cell_type": "code",
   "execution_count": 46,
   "metadata": {},
   "outputs": [],
   "source": [
    "from sklearn.model_selection import train_test_split\n",
    "from sklearn.metrics import accuracy_score\n",
    "\n",
    "# Split the data into training and testing sets\n",
    "X_train, X_test, y_train, y_test = train_test_split(X_encoded, y, test_size=0.2, random_state=42)\n",
    "\n",
    "# Create an XGBoost Classifier\n",
    "model = xgb.XGBClassifier()\n",
    "\n",
    "# Fit the model to the training data\n",
    "model.fit(X_train, y_train)\n",
    "\n",
    "# Make predictions on the testing data\n",
    "y_pred = model.predict(X_test)\n"
   ]
  },
  {
   "cell_type": "code",
   "execution_count": 47,
   "metadata": {},
   "outputs": [
    {
     "name": "stdout",
     "output_type": "stream",
     "text": [
      "Accuracy: 0.9639684106614018\n"
     ]
    }
   ],
   "source": [
    "# Calculate the accuracy of the model\n",
    "accuracy = accuracy_score(y_test, y_pred)\n",
    "print(\"Accuracy:\", accuracy)"
   ]
  },
  {
   "cell_type": "code",
   "execution_count": 48,
   "metadata": {},
   "outputs": [
    {
     "name": "stdout",
     "output_type": "stream",
     "text": [
      "Precision: 0.9044585987261147\n"
     ]
    }
   ],
   "source": [
    "from sklearn.metrics import precision_score\n",
    "\n",
    "# Calculate the precision of the model\n",
    "precision = precision_score(y_test, y_pred)\n",
    "\n",
    "print(\"Precision:\", precision)"
   ]
  },
  {
   "cell_type": "code",
   "execution_count": 49,
   "metadata": {},
   "outputs": [
    {
     "name": "stdout",
     "output_type": "stream",
     "text": [
      "Recall: 0.8685015290519877\n"
     ]
    }
   ],
   "source": [
    "from sklearn.metrics import recall_score\n",
    "\n",
    "# Calculate the recall of the model\n",
    "recall = recall_score(y_test, y_pred)\n",
    "\n",
    "print(\"Recall:\", recall)"
   ]
  },
  {
   "cell_type": "code",
   "execution_count": 50,
   "metadata": {},
   "outputs": [
    {
     "name": "stdout",
     "output_type": "stream",
     "text": [
      "F1 Score: 0.8861154446177847\n"
     ]
    }
   ],
   "source": [
    "from sklearn.metrics import f1_score\n",
    "\n",
    "# Calculate the F1 score of the model\n",
    "f1 = 2 * (precision * recall) / (precision + recall)\n",
    "\n",
    "print(\"F1 Score:\", f1)"
   ]
  },
  {
   "cell_type": "code",
   "execution_count": 51,
   "metadata": {},
   "outputs": [
    {
     "name": "stdout",
     "output_type": "stream",
     "text": [
      "True Negatives: 1669\n",
      "False Positives: 30\n",
      "False Negatives: 43\n",
      "True Positives: 284\n"
     ]
    }
   ],
   "source": [
    "from sklearn.metrics import confusion_matrix\n",
    "\n",
    "# Calculate the confusion matrix\n",
    "cm = confusion_matrix(y_test, y_pred)\n",
    "\n",
    "# Extract the values from the confusion matrix\n",
    "tn, fp, fn, tp = cm.ravel()\n",
    "\n",
    "print(\"True Negatives:\", tn)\n",
    "print(\"False Positives:\", fp)\n",
    "print(\"False Negatives:\", fn)\n",
    "print(\"True Positives:\", tp)"
   ]
  },
  {
   "cell_type": "markdown",
   "metadata": {},
   "source": [
    "## RF AdaBoost"
   ]
  },
  {
   "cell_type": "code",
   "execution_count": null,
   "metadata": {},
   "outputs": [],
   "source": []
  },
  {
   "cell_type": "code",
   "execution_count": null,
   "metadata": {},
   "outputs": [],
   "source": []
  },
  {
   "cell_type": "code",
   "execution_count": null,
   "metadata": {},
   "outputs": [],
   "source": []
  },
  {
   "cell_type": "code",
   "execution_count": null,
   "metadata": {},
   "outputs": [],
   "source": []
  },
  {
   "cell_type": "code",
   "execution_count": null,
   "metadata": {},
   "outputs": [],
   "source": []
  },
  {
   "cell_type": "code",
   "execution_count": null,
   "metadata": {},
   "outputs": [],
   "source": []
  },
  {
   "cell_type": "markdown",
   "metadata": {},
   "source": [
    "## Convolutional Neural Network (CNN)"
   ]
  },
  {
   "cell_type": "code",
   "execution_count": null,
   "metadata": {},
   "outputs": [],
   "source": []
  },
  {
   "cell_type": "code",
   "execution_count": null,
   "metadata": {},
   "outputs": [],
   "source": []
  },
  {
   "cell_type": "code",
   "execution_count": null,
   "metadata": {},
   "outputs": [],
   "source": []
  }
 ],
 "metadata": {
  "kernelspec": {
   "display_name": "Python 3",
   "language": "python",
   "name": "python3"
  },
  "language_info": {
   "codemirror_mode": {
    "name": "ipython",
    "version": 3
   },
   "file_extension": ".py",
   "mimetype": "text/x-python",
   "name": "python",
   "nbconvert_exporter": "python",
   "pygments_lexer": "ipython3",
   "version": "3.8.5"
  }
 },
 "nbformat": 4,
 "nbformat_minor": 4
}
